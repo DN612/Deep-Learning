{
  "nbformat": 4,
  "nbformat_minor": 0,
  "metadata": {
    "colab": {
      "name": "LabAssignment2_201701438.ipynb",
      "provenance": []
    },
    "kernelspec": {
      "name": "python3",
      "display_name": "Python 3"
    }
  },
  "cells": [
    {
      "cell_type": "markdown",
      "metadata": {
        "id": "5M2nObT-TTgf",
        "colab_type": "text"
      },
      "source": [
        "Niharika Dalsania <br>\n",
        "SID: 201701438 <br>\n",
        "DL Lab Assignment 2 - Forward Propogation"
      ]
    },
    {
      "cell_type": "markdown",
      "metadata": {
        "id": "3OaBYPszV36M",
        "colab_type": "text"
      },
      "source": [
        "**IMPORT LIBRARIES**"
      ]
    },
    {
      "cell_type": "code",
      "metadata": {
        "id": "uoIsHnWo4tqr",
        "colab_type": "code",
        "colab": {}
      },
      "source": [
        "import tensorflow as tf\n",
        "import matplotlib.pyplot as plt\n",
        "import numpy as np\n",
        "import pandas as pd"
      ],
      "execution_count": 1,
      "outputs": []
    },
    {
      "cell_type": "markdown",
      "metadata": {
        "id": "JVfwHC-pamXB",
        "colab_type": "text"
      },
      "source": [
        "**FORWARD PROPOGATE FUNCTION**"
      ]
    },
    {
      "cell_type": "code",
      "metadata": {
        "id": "4oLVm2nswO4Z",
        "colab_type": "code",
        "colab": {}
      },
      "source": [
        "# Define forward propogation function with following parameters\n",
        "\n",
        "# X - input layer\n",
        "# num - number of layers including input layer, hidden layers and output layer (i = 0 input layer, i = num-1 output layer)\n",
        "# p - number of nodes in all layers including input and output layer\n",
        "# act - activation function to be used at each level\n",
        "\n",
        "def forward_prop(X, num, p, act):\n",
        "\n",
        "  for i in range(1, num):\n",
        "\n",
        "    # weights and biases of edges connecting input layer[i] and layer[i-1]\n",
        "    W = tf.random.normal([p[i],p[i-1]], 0, 1, tf.float64)\n",
        "    B = tf.tile(tf.random.normal([p[i], 1], 0, 1, tf.float64), [1, X.shape[1]])\n",
        "\n",
        "    # forward propogate from layer[i-1] to layer[i]\n",
        "    Z = tf.add(tf.linalg.matmul(W, X), B)\n",
        "    Z = act[i-1](Z)\n",
        "    X = tf.Variable(Z, dtype = tf.float64)\n",
        "\n",
        "  return X"
      ],
      "execution_count": 2,
      "outputs": []
    },
    {
      "cell_type": "markdown",
      "metadata": {
        "id": "mZYAAg3vUJKx",
        "colab_type": "text"
      },
      "source": [
        "# **QUESTION 1 - CLASSIFICATION**"
      ]
    },
    {
      "cell_type": "markdown",
      "metadata": {
        "id": "IUUdVoy8V-qC",
        "colab_type": "text"
      },
      "source": [
        "**LOAD THE DATASET**"
      ]
    },
    {
      "cell_type": "code",
      "metadata": {
        "id": "RGTxocGY5av3",
        "colab_type": "code",
        "colab": {
          "base_uri": "https://localhost:8080/",
          "height": 87
        },
        "outputId": "3b55b637-df85-4485-d2cc-125afac2af7f"
      },
      "source": [
        "mnist = tf.keras.datasets.mnist\n",
        "(train_images, train_labels), (test_images, test_labels) = mnist.load_data()\n",
        "\n",
        "# typecast train images into float and labels into int\n",
        "# flatten the train images\n",
        "train_images = (train_images).astype(np.float32)\n",
        "train_labels = (train_labels).astype(np.int64)\n",
        "tf.print(\"Dimension of loaded train images set:\", train_images.shape)\n",
        "train_images = train_images.reshape(train_images.shape[0],train_images.shape[1]*train_images.shape[2])\n",
        "tf.print(\"Dimension of flattened train images set:\", train_images.shape)\n",
        "\n",
        "# typecast test images into float and labels into int\n",
        "# flatten the test images\n",
        "test_images = (test_images).astype(np.float32)\n",
        "test_labels = (test_labels).astype(np.int64)\n",
        "tf.print(\"Dimension of loaded test images set:\", test_images.shape)\n",
        "test_images = test_images.reshape(test_images.shape[0],test_images.shape[1]*test_images.shape[2])\n",
        "tf.print(\"Dimension of flattened test images set:\", test_images.shape)"
      ],
      "execution_count": 3,
      "outputs": [
        {
          "output_type": "stream",
          "text": [
            "Dimension of loaded train images set: (60000, 28, 28)\n",
            "Dimension of flattened train images set: (60000, 784)\n",
            "Dimension of loaded test images set: (10000, 28, 28)\n",
            "Dimension of flattened test images set: (10000, 784)\n"
          ],
          "name": "stdout"
        }
      ]
    },
    {
      "cell_type": "markdown",
      "metadata": {
        "id": "7IZRE0et-79Q",
        "colab_type": "text"
      },
      "source": [
        "**PRINTING SAMPLE CONFUSION MATRIX AND ACCURACY**"
      ]
    },
    {
      "cell_type": "code",
      "metadata": {
        "id": "WwvVCXPl_EUf",
        "colab_type": "code",
        "colab": {
          "base_uri": "https://localhost:8080/",
          "height": 243
        },
        "outputId": "439b1fc8-e086-4ccd-cfa5-07295d6ac38f"
      },
      "source": [
        "num = tf.constant(5, dtype = tf.int64)\n",
        "p = tf.constant([train_images.shape[1], 512, 256, 128, 10], dtype = tf.int64)\n",
        "act = [tf.math.sigmoid, tf.math.sigmoid, tf.math.sigmoid, tf.math.sigmoid]\n",
        "X = tf.cast(tf.transpose(train_images), dtype=tf.float64)\n",
        "labels = train_labels\n",
        "\n",
        "output = forward_prop(X, num, p, act)\n",
        "pred = tf.math.argmax(output, axis = 0)\n",
        "\n",
        "accuracy = tf.reduce_mean(tf.cast(tf.equal(pred, labels), tf.float64))\n",
        "tf.print(\"Accuracy: \", accuracy*100, \"%\\n\")\n",
        "tf.print(\"Confusion Matrix:\")\n",
        "tf.print(tf.math.confusion_matrix(labels, pred), summarize=-1)"
      ],
      "execution_count": 4,
      "outputs": [
        {
          "output_type": "stream",
          "text": [
            "Accuracy:  9.045 %\n",
            "\n",
            "Confusion Matrix:\n",
            "[[0 0 0 0 0 237 4679 0 0 1007]\n",
            " [0 0 0 0 0 1240 4569 0 0 933]\n",
            " [0 0 0 0 0 464 3844 0 0 1650]\n",
            " [0 0 0 0 0 447 3946 0 0 1738]\n",
            " [0 0 0 0 0 584 4262 0 0 996]\n",
            " [0 0 0 0 0 697 3796 0 0 928]\n",
            " [0 0 0 0 0 990 3982 0 0 946]\n",
            " [0 0 0 0 0 269 5200 0 0 796]\n",
            " [0 0 0 0 0 480 4468 0 0 903]\n",
            " [0 0 0 0 0 620 4581 0 0 748]]\n"
          ],
          "name": "stdout"
        }
      ]
    },
    {
      "cell_type": "markdown",
      "metadata": {
        "id": "qvlHdAks850B",
        "colab_type": "text"
      },
      "source": [
        "**OBSERVING EFFECT OF BATCH SIZE**"
      ]
    },
    {
      "cell_type": "code",
      "metadata": {
        "id": "-Z7uhC1CCFZR",
        "colab_type": "code",
        "colab": {
          "base_uri": "https://localhost:8080/",
          "height": 459
        },
        "outputId": "add846b9-3663-4110-ce9a-4d58e5ca5c16"
      },
      "source": [
        "num = tf.constant(5, dtype = tf.int64)\n",
        "p = tf.constant([train_images.shape[1], 512, 256, 128, 10], dtype = tf.int64)\n",
        "act = [tf.math.sigmoid, tf.math.sigmoid, tf.math.sigmoid, tf.math.sigmoid]\n",
        "\n",
        "# array of batch sizes\n",
        "batch_sizes = tf.constant([256, 512, 1024, 2048, 4096, 8192, 16384, train_images.shape[0]], dtype = tf.int64)\n",
        "\n",
        "# initialize accuracies array for different batch sizes\n",
        "accuracies = []\n",
        "\n",
        "# loop over all batch sizes\n",
        "for batch_size in batch_sizes:\n",
        "    \n",
        "    # initialize arrays for accuracy of each batch for a particular batch size\n",
        "    batch_acc = []\n",
        "\n",
        "    # take different batches and calculate accuracy for each batch separately\n",
        "    for i in range(train_images.shape[0] // batch_size):\n",
        "      \n",
        "      # input layer and corresponding labels of batch size\n",
        "      X = tf.Variable(tf.cast(tf.transpose(train_images[i*batch_size:(i+1)*batch_size]), dtype=tf.float64))\n",
        "      labels = tf.Variable(train_labels[i*batch_size:(i+1)*batch_size])\n",
        "      \n",
        "      # forward propogate and make prediction\n",
        "      output = forward_prop(X, num, p, act)\n",
        "      pred = tf.math.argmax(output, axis = 0)\n",
        "      \n",
        "      # calculate accuracy of each batch\n",
        "      accuracy = tf.reduce_mean(tf.cast(tf.equal(pred, labels), tf.float64))\n",
        "      batch_acc.append(accuracy*100)\n",
        "\n",
        "    # take average accuracy obtained across all batches for a particular batch size\n",
        "    accuracies.append(tf.divide(sum(batch_acc),len(batch_acc)))\n",
        "    tf.print(\"Batch Size\", batch_size, \": Accuracy = \", tf.divide(sum(batch_acc),len(batch_acc)), \"%\")\n",
        "\n",
        "# plot accuracy for different batch sizes\n",
        "tf.print()\n",
        "plt.plot(batch_sizes, accuracies)\n",
        "plt.title(\"Batch size vs. Accuracy\", fontsize = 15)\n",
        "plt.xlabel(\"Batch Size\", fontsize = 12)\n",
        "plt.ylabel(\"Accuracy (%)\", fontsize = 12)\n",
        "plt.ylim(0, 2*max(accuracies))\n",
        "plt.xticks(fontsize=12)\n",
        "plt.yticks(fontsize=12)\n",
        "plt.grid()\n",
        "plt.show()"
      ],
      "execution_count": 5,
      "outputs": [
        {
          "output_type": "stream",
          "text": [
            "Batch Size 256 : Accuracy =  10.179620726495726 %\n",
            "Batch Size 512 : Accuracy =  10.006009615384615 %\n",
            "Batch Size 1024 : Accuracy =  9.9912446120689662 %\n",
            "Batch Size 2048 : Accuracy =  10.073747306034482 %\n",
            "Batch Size 4096 : Accuracy =  10.147530691964286 %\n",
            "Batch Size 8192 : Accuracy =  9.0733119419642865 %\n",
            "Batch Size 16384 : Accuracy =  10.935465494791666 %\n",
            "Batch Size 60000 : Accuracy =  8.1166666666666671 %\n",
            "\n"
          ],
          "name": "stdout"
        },
        {
          "output_type": "display_data",
          "data": {
            "image/png": "[encoded data removed]",
            "text/plain": [
              "<Figure size 432x288 with 1 Axes>"
            ]
          },
          "metadata": {
            "tags": [],
            "needs_background": "light"
          }
        }
      ]
    },
    {
      "cell_type": "markdown",
      "metadata": {
        "id": "AHUrpVsI9wsW",
        "colab_type": "text"
      },
      "source": [
        "Observation: Since we are only forward propogating, the weights and biases are never adjusted, essentially the model learns nothing. So changing batch size does not really affect the accuracy a lot and it remains poor throughout. So, from here on, we will use standard batch size 256. Since the weights and biases are initialised randomly, these accuracies might change with every run. "
      ]
    },
    {
      "cell_type": "markdown",
      "metadata": {
        "id": "eBeahEFJBehZ",
        "colab_type": "text"
      },
      "source": [
        "**OBSERVING EFFECTS OF NUMBER OF NODES IN HIDDEN LAYERS**"
      ]
    },
    {
      "cell_type": "code",
      "metadata": {
        "id": "AXkgLxmeBoLA",
        "colab_type": "code",
        "colab": {
          "base_uri": "https://localhost:8080/",
          "height": 390
        },
        "outputId": "b6e0b6ac-aecd-4386-e412-78d38ccdfce7"
      },
      "source": [
        "num = tf.constant(5, dtype = tf.int64)\n",
        "batch_size = tf.constant(256, dtype = tf.int64)\n",
        "act = [tf.math.sigmoid, tf.math.sigmoid, tf.math.sigmoid, tf.math.sigmoid]\n",
        "\n",
        "# array of different numbers of nodes to be taken every time, same for each layer\n",
        "nodes = tf.constant([5, 50, 500, 5000], dtype = tf.int64)\n",
        "\n",
        "# initialize accuracies array for different batch sizes\n",
        "accuracies = []\n",
        "\n",
        "for n in nodes:\n",
        "\n",
        "  p = tf.Variable([train_images.shape[1], int(n), int(n), int(n), 10], dtype = tf.int64)\n",
        "\n",
        "  X = tf.cast(tf.transpose(train_images[:batch_size]), dtype=tf.float64)\n",
        "  labels = train_labels[:batch_size]\n",
        "  \n",
        "  # forward propogate and make prediction\n",
        "  output = forward_prop(X, num, p, act)\n",
        "  pred = tf.math.argmax(output, axis = 0)\n",
        "\n",
        "  accuracy = tf.reduce_mean(tf.cast(tf.equal(pred, labels), tf.float64))\n",
        "  tf.print(\"Accuracy for \", n, \" nodes in each hidden layer: \", accuracy*100, \"%\")\n",
        "  accuracies.append(accuracy*100)\n",
        "\n",
        "# plot accuracy for different number of nodes\n",
        "tf.print()\n",
        "plt.plot(nodes, accuracies)\n",
        "plt.title(\"Number of node in hidden layer vs. Accuracy\", fontsize = 15)\n",
        "plt.xlabel(\"Number of node in hidden layer\", fontsize = 12)\n",
        "plt.ylabel(\"Accuracy (%)\", fontsize = 12)\n",
        "plt.ylim(0, 2*max(accuracies))\n",
        "plt.xticks(fontsize=12)\n",
        "plt.yticks(fontsize=12)\n",
        "plt.grid()\n",
        "plt.show()"
      ],
      "execution_count": 6,
      "outputs": [
        {
          "output_type": "stream",
          "text": [
            "Accuracy for  5  nodes in each hidden layer:  7.421875 %\n",
            "Accuracy for  50  nodes in each hidden layer:  10.546875 %\n",
            "Accuracy for  500  nodes in each hidden layer:  9.765625 %\n",
            "Accuracy for  5000  nodes in each hidden layer:  8.984375 %\n",
            "\n"
          ],
          "name": "stdout"
        },
        {
          "output_type": "display_data",
          "data": {
            "image/png": "[encoded data removed]",
            "text/plain": [
              "<Figure size 432x288 with 1 Axes>"
            ]
          },
          "metadata": {
            "tags": [],
            "needs_background": "light"
          }
        }
      ]
    },
    {
      "cell_type": "markdown",
      "metadata": {
        "id": "AblCR-mXIFgT",
        "colab_type": "text"
      },
      "source": [
        "Observation: Here again, since we are only forward propogating, the weights and biases are never adjusted, essentially the model learns nothing. So increasing number of nodes i.e. interconnections does not really affect the accuracy a lot (while it should have ideally increased upto some point until overfitting starts) and it remains poor throughout. So, from here on, we will use decreasing number of nodes 512, 256 and 128 nodes in all the following hidden layers. Since the weights and biases are initialised randomly, these accuracies might change with every run."
      ]
    },
    {
      "cell_type": "markdown",
      "metadata": {
        "id": "5y-6kAbhI86S",
        "colab_type": "text"
      },
      "source": [
        "**OBSERVING EFFECT OF NUMBER OF HIDDEN LAYERS (additional analysis)**"
      ]
    },
    {
      "cell_type": "code",
      "metadata": {
        "id": "3f2HbiarMG1A",
        "colab_type": "code",
        "colab": {
          "base_uri": "https://localhost:8080/",
          "height": 407
        },
        "outputId": "b1d25d60-a931-465d-c476-5243850c016d"
      },
      "source": [
        "num = tf.constant([5, 6, 7, 8, 9], dtype = tf.int64)\n",
        "batch_size = tf.constant(256, dtype = tf.int64)\n",
        "\n",
        "# initialize accuracies array for different number of hidden layers\n",
        "accuracies = []\n",
        "\n",
        "for n in num:\n",
        "\n",
        "  p = tf.constant([train_images.shape[1], 512, 256], dtype = tf.int64)\n",
        "  for i in range(int(n)-4):\n",
        "    p = tf.concat([p, tf.constant([128], dtype = tf.int64)], axis=0)\n",
        "  p = tf.concat([p, tf.constant([10], dtype = tf.int64)], axis=0)\n",
        "\n",
        "  act = [tf.math.sigmoid] * int(n-1)\n",
        "\n",
        "  X = tf.cast(tf.transpose(train_images[:batch_size]), dtype=tf.float64)\n",
        "  labels = train_labels[:batch_size]\n",
        "  \n",
        "  # forward propogate and make prediction\n",
        "  output = forward_prop(X, int(n), p, act)\n",
        "  pred = tf.math.argmax(output, axis = 0)\n",
        "\n",
        "  accuracy = tf.reduce_mean(tf.cast(tf.equal(pred, labels), tf.float64))\n",
        "  tf.print(\"Accuracy for \", n, \" hidden layer: \", accuracy*100, \"%\")\n",
        "  accuracies.append(accuracy*100)\n",
        "\n",
        "# plot accuracy for different number of hidden layers\n",
        "tf.print()\n",
        "plt.plot(num, accuracies)\n",
        "plt.title(\"Number of hidden layer vs. Accuracy\", fontsize = 15)\n",
        "plt.xlabel(\"Number of hidden layer\", fontsize = 12)\n",
        "plt.ylabel(\"Accuracy (%)\", fontsize = 12)\n",
        "plt.xlim(4, 10)\n",
        "plt.ylim(0, 2*max(accuracies))\n",
        "plt.xticks(num, fontsize=12)\n",
        "plt.yticks(fontsize=12)\n",
        "plt.grid()\n",
        "plt.show()"
      ],
      "execution_count": 7,
      "outputs": [
        {
          "output_type": "stream",
          "text": [
            "Accuracy for  5  hidden layer:  8.984375 %\n",
            "Accuracy for  6  hidden layer:  12.890625 %\n",
            "Accuracy for  7  hidden layer:  14.84375 %\n",
            "Accuracy for  8  hidden layer:  8.984375 %\n",
            "Accuracy for  9  hidden layer:  8.984375 %\n",
            "\n"
          ],
          "name": "stdout"
        },
        {
          "output_type": "display_data",
          "data": {
            "image/png": "[encoded data removed]",
            "text/plain": [
              "<Figure size 432x288 with 1 Axes>"
            ]
          },
          "metadata": {
            "tags": [],
            "needs_background": "light"
          }
        }
      ]
    },
    {
      "cell_type": "markdown",
      "metadata": {
        "id": "Ts_PjBM2aXDb",
        "colab_type": "text"
      },
      "source": [
        "Observation: Here again, since we are only forward propogating, the weights and biases are never adjusted, essentially the model learns nothing. So increasing number of hidden layers does not really affect the accuracy a lot (while it should have ideally increased upto some point until overfitting starts) and it remains poor throughout. So we limit our model to 3 hidden layers only. Since the weights and biases are initialised randomly, these accuracies might change with every run."
      ]
    },
    {
      "cell_type": "markdown",
      "metadata": {
        "id": "mrz7hSq3hCLm",
        "colab_type": "text"
      },
      "source": [
        "**OBSERVING EFFECT OF ACTIVATION FUNCTIONS**"
      ]
    },
    {
      "cell_type": "code",
      "metadata": {
        "id": "b9SEn1T5Fags",
        "colab_type": "code",
        "colab": {
          "base_uri": "https://localhost:8080/",
          "height": 785
        },
        "outputId": "02426877-5a81-4960-f45e-e5fb1229d5d2"
      },
      "source": [
        "n = tf.constant(5, dtype = tf.int64)\n",
        "batch_size = tf.constant(256, dtype = tf.int64)\n",
        "p = tf.constant([train_images.shape[1], 512, 256, 128, 10], dtype = tf.int64)\n",
        "\n",
        "hidden_layer1_act = [tf.math.sigmoid, tf.math.tanh]\n",
        "hidden_layer2_act = [tf.nn.relu, tf.math.tanh]\n",
        "hidden_layer3_act = [tf.math.sigmoid, tf.nn.relu]\n",
        "out_layer_act = [tf.math.sigmoid, tf.math.tanh, tf.nn.softmax]\n",
        "\n",
        "act1 = []\n",
        "act2 = []\n",
        "act3 = []\n",
        "actout = []\n",
        "acc = []\n",
        "\n",
        "for a1 in hidden_layer1_act:\n",
        "  for a2 in hidden_layer2_act:\n",
        "    for a3 in hidden_layer3_act:\n",
        "      for a4 in out_layer_act:\n",
        "\n",
        "        act = [a1, a2, a3, a4]\n",
        "        X = tf.cast(tf.transpose(train_images[:batch_size]), dtype=tf.float64)\n",
        "        labels = train_labels[:batch_size]\n",
        "        \n",
        "        # forward propogate and make prediction\n",
        "        output = forward_prop(X, n, p, act)\n",
        "        pred = tf.math.argmax(output, axis = 0)\n",
        "\n",
        "        accuracy = tf.reduce_mean(tf.cast(tf.equal(pred, labels), tf.float64))\n",
        "        act1.append(str(a1).split(' ')[1])\n",
        "        act2.append(str(a2).split(' ')[1])\n",
        "        act3.append(str(a3).split(' ')[1])\n",
        "        actout.append(str(a4).split(' ')[1])\n",
        "        acc.append(float(accuracy*100))\n",
        "\n",
        "pd.DataFrame(list(zip(act1, act2, act3, actout, acc)), columns = ['First layer', 'Second layer', 'Third layer', 'Output layer', 'Accuracy (%)'])"
      ],
      "execution_count": 8,
      "outputs": [
        {
          "output_type": "execute_result",
          "data": {
            "text/html": [
              "<div>\n",
              "<style scoped>\n",
              "    .dataframe tbody tr th:only-of-type {\n",
              "        vertical-align: middle;\n",
              "    }\n",
              "\n",
              "    .dataframe tbody tr th {\n",
              "        vertical-align: top;\n",
              "    }\n",
              "\n",
              "    .dataframe thead th {\n",
              "        text-align: right;\n",
              "    }\n",
              "</style>\n",
              "<table border=\"1\" class=\"dataframe\">\n",
              "  <thead>\n",
              "    <tr style=\"text-align: right;\">\n",
              "      <th></th>\n",
              "      <th>First layer</th>\n",
              "      <th>Second layer</th>\n",
              "      <th>Third layer</th>\n",
              "      <th>Output layer</th>\n",
              "      <th>Accuracy (%)</th>\n",
              "    </tr>\n",
              "  </thead>\n",
              "  <tbody>\n",
              "    <tr>\n",
              "      <th>0</th>\n",
              "      <td>sigmoid</td>\n",
              "      <td>relu</td>\n",
              "      <td>sigmoid</td>\n",
              "      <td>sigmoid</td>\n",
              "      <td>8.203125</td>\n",
              "    </tr>\n",
              "    <tr>\n",
              "      <th>1</th>\n",
              "      <td>sigmoid</td>\n",
              "      <td>relu</td>\n",
              "      <td>sigmoid</td>\n",
              "      <td>tanh</td>\n",
              "      <td>12.890625</td>\n",
              "    </tr>\n",
              "    <tr>\n",
              "      <th>2</th>\n",
              "      <td>sigmoid</td>\n",
              "      <td>relu</td>\n",
              "      <td>sigmoid</td>\n",
              "      <td>softmax_v2</td>\n",
              "      <td>10.546875</td>\n",
              "    </tr>\n",
              "    <tr>\n",
              "      <th>3</th>\n",
              "      <td>sigmoid</td>\n",
              "      <td>relu</td>\n",
              "      <td>relu</td>\n",
              "      <td>sigmoid</td>\n",
              "      <td>15.234375</td>\n",
              "    </tr>\n",
              "    <tr>\n",
              "      <th>4</th>\n",
              "      <td>sigmoid</td>\n",
              "      <td>relu</td>\n",
              "      <td>relu</td>\n",
              "      <td>tanh</td>\n",
              "      <td>11.718750</td>\n",
              "    </tr>\n",
              "    <tr>\n",
              "      <th>5</th>\n",
              "      <td>sigmoid</td>\n",
              "      <td>relu</td>\n",
              "      <td>relu</td>\n",
              "      <td>softmax_v2</td>\n",
              "      <td>9.765625</td>\n",
              "    </tr>\n",
              "    <tr>\n",
              "      <th>6</th>\n",
              "      <td>sigmoid</td>\n",
              "      <td>tanh</td>\n",
              "      <td>sigmoid</td>\n",
              "      <td>sigmoid</td>\n",
              "      <td>9.765625</td>\n",
              "    </tr>\n",
              "    <tr>\n",
              "      <th>7</th>\n",
              "      <td>sigmoid</td>\n",
              "      <td>tanh</td>\n",
              "      <td>sigmoid</td>\n",
              "      <td>tanh</td>\n",
              "      <td>8.203125</td>\n",
              "    </tr>\n",
              "    <tr>\n",
              "      <th>8</th>\n",
              "      <td>sigmoid</td>\n",
              "      <td>tanh</td>\n",
              "      <td>sigmoid</td>\n",
              "      <td>softmax_v2</td>\n",
              "      <td>6.640625</td>\n",
              "    </tr>\n",
              "    <tr>\n",
              "      <th>9</th>\n",
              "      <td>sigmoid</td>\n",
              "      <td>tanh</td>\n",
              "      <td>relu</td>\n",
              "      <td>sigmoid</td>\n",
              "      <td>11.718750</td>\n",
              "    </tr>\n",
              "    <tr>\n",
              "      <th>10</th>\n",
              "      <td>sigmoid</td>\n",
              "      <td>tanh</td>\n",
              "      <td>relu</td>\n",
              "      <td>tanh</td>\n",
              "      <td>11.718750</td>\n",
              "    </tr>\n",
              "    <tr>\n",
              "      <th>11</th>\n",
              "      <td>sigmoid</td>\n",
              "      <td>tanh</td>\n",
              "      <td>relu</td>\n",
              "      <td>softmax_v2</td>\n",
              "      <td>7.421875</td>\n",
              "    </tr>\n",
              "    <tr>\n",
              "      <th>12</th>\n",
              "      <td>tanh</td>\n",
              "      <td>relu</td>\n",
              "      <td>sigmoid</td>\n",
              "      <td>sigmoid</td>\n",
              "      <td>11.328125</td>\n",
              "    </tr>\n",
              "    <tr>\n",
              "      <th>13</th>\n",
              "      <td>tanh</td>\n",
              "      <td>relu</td>\n",
              "      <td>sigmoid</td>\n",
              "      <td>tanh</td>\n",
              "      <td>9.765625</td>\n",
              "    </tr>\n",
              "    <tr>\n",
              "      <th>14</th>\n",
              "      <td>tanh</td>\n",
              "      <td>relu</td>\n",
              "      <td>sigmoid</td>\n",
              "      <td>softmax_v2</td>\n",
              "      <td>8.203125</td>\n",
              "    </tr>\n",
              "    <tr>\n",
              "      <th>15</th>\n",
              "      <td>tanh</td>\n",
              "      <td>relu</td>\n",
              "      <td>relu</td>\n",
              "      <td>sigmoid</td>\n",
              "      <td>12.890625</td>\n",
              "    </tr>\n",
              "    <tr>\n",
              "      <th>16</th>\n",
              "      <td>tanh</td>\n",
              "      <td>relu</td>\n",
              "      <td>relu</td>\n",
              "      <td>tanh</td>\n",
              "      <td>8.984375</td>\n",
              "    </tr>\n",
              "    <tr>\n",
              "      <th>17</th>\n",
              "      <td>tanh</td>\n",
              "      <td>relu</td>\n",
              "      <td>relu</td>\n",
              "      <td>softmax_v2</td>\n",
              "      <td>10.937500</td>\n",
              "    </tr>\n",
              "    <tr>\n",
              "      <th>18</th>\n",
              "      <td>tanh</td>\n",
              "      <td>tanh</td>\n",
              "      <td>sigmoid</td>\n",
              "      <td>sigmoid</td>\n",
              "      <td>12.109375</td>\n",
              "    </tr>\n",
              "    <tr>\n",
              "      <th>19</th>\n",
              "      <td>tanh</td>\n",
              "      <td>tanh</td>\n",
              "      <td>sigmoid</td>\n",
              "      <td>tanh</td>\n",
              "      <td>8.593750</td>\n",
              "    </tr>\n",
              "    <tr>\n",
              "      <th>20</th>\n",
              "      <td>tanh</td>\n",
              "      <td>tanh</td>\n",
              "      <td>sigmoid</td>\n",
              "      <td>softmax_v2</td>\n",
              "      <td>9.765625</td>\n",
              "    </tr>\n",
              "    <tr>\n",
              "      <th>21</th>\n",
              "      <td>tanh</td>\n",
              "      <td>tanh</td>\n",
              "      <td>relu</td>\n",
              "      <td>sigmoid</td>\n",
              "      <td>8.984375</td>\n",
              "    </tr>\n",
              "    <tr>\n",
              "      <th>22</th>\n",
              "      <td>tanh</td>\n",
              "      <td>tanh</td>\n",
              "      <td>relu</td>\n",
              "      <td>tanh</td>\n",
              "      <td>13.671875</td>\n",
              "    </tr>\n",
              "    <tr>\n",
              "      <th>23</th>\n",
              "      <td>tanh</td>\n",
              "      <td>tanh</td>\n",
              "      <td>relu</td>\n",
              "      <td>softmax_v2</td>\n",
              "      <td>7.812500</td>\n",
              "    </tr>\n",
              "  </tbody>\n",
              "</table>\n",
              "</div>"
            ],
            "text/plain": [
              "   First layer Second layer Third layer Output layer  Accuracy (%)\n",
              "0      sigmoid         relu     sigmoid      sigmoid      8.203125\n",
              "1      sigmoid         relu     sigmoid         tanh     12.890625\n",
              "2      sigmoid         relu     sigmoid   softmax_v2     10.546875\n",
              "3      sigmoid         relu        relu      sigmoid     15.234375\n",
              "4      sigmoid         relu        relu         tanh     11.718750\n",
              "5      sigmoid         relu        relu   softmax_v2      9.765625\n",
              "6      sigmoid         tanh     sigmoid      sigmoid      9.765625\n",
              "7      sigmoid         tanh     sigmoid         tanh      8.203125\n",
              "8      sigmoid         tanh     sigmoid   softmax_v2      6.640625\n",
              "9      sigmoid         tanh        relu      sigmoid     11.718750\n",
              "10     sigmoid         tanh        relu         tanh     11.718750\n",
              "11     sigmoid         tanh        relu   softmax_v2      7.421875\n",
              "12        tanh         relu     sigmoid      sigmoid     11.328125\n",
              "13        tanh         relu     sigmoid         tanh      9.765625\n",
              "14        tanh         relu     sigmoid   softmax_v2      8.203125\n",
              "15        tanh         relu        relu      sigmoid     12.890625\n",
              "16        tanh         relu        relu         tanh      8.984375\n",
              "17        tanh         relu        relu   softmax_v2     10.937500\n",
              "18        tanh         tanh     sigmoid      sigmoid     12.109375\n",
              "19        tanh         tanh     sigmoid         tanh      8.593750\n",
              "20        tanh         tanh     sigmoid   softmax_v2      9.765625\n",
              "21        tanh         tanh        relu      sigmoid      8.984375\n",
              "22        tanh         tanh        relu         tanh     13.671875\n",
              "23        tanh         tanh        relu   softmax_v2      7.812500"
            ]
          },
          "metadata": {
            "tags": []
          },
          "execution_count": 8
        }
      ]
    },
    {
      "cell_type": "markdown",
      "metadata": {
        "id": "vwDpDg0vRpTr",
        "colab_type": "text"
      },
      "source": [
        "Observation: Here again, since we are only forward propogating, the weights and biases are never adjusted, essentially the model learns nothing. So the accuracy does not change a lot with any combination of activation function. What effects changing limiting values via activation functions have can be analysed better if we allow backpropogation and look at issues like gradient descent then. Grossly, no particular function evidently seems the best option for output layer, though we would have expected softmax or sigmoid. Since the weights and biases are initialised randomly, these conclusions based on accuracies might change with every run."
      ]
    },
    {
      "cell_type": "markdown",
      "metadata": {
        "id": "rmcHirGEVUVa",
        "colab_type": "text"
      },
      "source": [
        "# **QUESTION 2 - REGRESSION**"
      ]
    },
    {
      "cell_type": "markdown",
      "metadata": {
        "id": "ooLPZPMUVZF0",
        "colab_type": "text"
      },
      "source": [
        "**LOAD THE DATASET**"
      ]
    },
    {
      "cell_type": "code",
      "metadata": {
        "id": "h6o4gFwW-77U",
        "colab_type": "code",
        "colab": {
          "base_uri": "https://localhost:8080/",
          "height": 87
        },
        "outputId": "d8e4c02c-f0ad-40e9-9c96-111af1afc8dd"
      },
      "source": [
        "from keras.datasets import boston_housing\n",
        "(X_train, y_train), (X_test, y_test) = boston_housing.load_data()\n",
        "\n",
        "print(X_train.shape)\n",
        "print(y_train.shape)\n",
        "print(X_test.shape)\n",
        "print(y_test.shape)"
      ],
      "execution_count": 9,
      "outputs": [
        {
          "output_type": "stream",
          "text": [
            "(404, 13)\n",
            "(404,)\n",
            "(102, 13)\n",
            "(102,)\n"
          ],
          "name": "stdout"
        }
      ]
    },
    {
      "cell_type": "markdown",
      "metadata": {
        "id": "BetWfimRBaVd",
        "colab_type": "text"
      },
      "source": [
        "**CALCULATE MSE**"
      ]
    },
    {
      "cell_type": "code",
      "metadata": {
        "id": "M_3W-ZIl_RLC",
        "colab_type": "code",
        "colab": {
          "base_uri": "https://localhost:8080/",
          "height": 35
        },
        "outputId": "b3ef54b8-3b4f-4125-aa98-728902d2f210"
      },
      "source": [
        "num = tf.constant(5, dtype = tf.int64)\n",
        "p = tf.constant([X_train.shape[1], 512, 256, 128, 1], dtype = tf.int64)\n",
        "act = [tf.math.sigmoid, tf.math.sigmoid, tf.math.sigmoid, tf.math.sigmoid]\n",
        "X = tf.cast(tf.transpose(X_train), dtype=tf.float64)\n",
        "labels = y_train\n",
        "\n",
        "output = forward_prop(X, num, p, act)\n",
        "mse = tf.keras.losses.MSE(labels, output)\n",
        "tf.print(\"MSE:\", mse)"
      ],
      "execution_count": 10,
      "outputs": [
        {
          "output_type": "stream",
          "text": [
            "MSE: [585.67821408804707]\n"
          ],
          "name": "stdout"
        }
      ]
    },
    {
      "cell_type": "markdown",
      "metadata": {
        "id": "2JOFeYf5B811",
        "colab_type": "text"
      },
      "source": [
        "**OBSERVE EFFECT OF BATCH SIZE**"
      ]
    },
    {
      "cell_type": "code",
      "metadata": {
        "id": "5e302RsfB7NI",
        "colab_type": "code",
        "colab": {
          "base_uri": "https://localhost:8080/",
          "height": 459
        },
        "outputId": "8fb54d89-91b8-4ecb-affe-3570bfa6f379"
      },
      "source": [
        "num = tf.constant(5, dtype = tf.int64)\n",
        "p = tf.constant([X_train.shape[1], 512, 256, 128, 1], dtype = tf.int64)\n",
        "act = [tf.math.sigmoid, tf.math.sigmoid, tf.math.sigmoid, tf.nn.relu]\n",
        "\n",
        "# array of batch sizes\n",
        "batch_sizes = tf.constant([50, 100, 150, 200, 250, 300, 350, 404], dtype = tf.int64)\n",
        "\n",
        "# initialize mse array for different batch sizes\n",
        "mse = []\n",
        "\n",
        "# loop over all batch sizes\n",
        "for batch_size in batch_sizes:\n",
        "    \n",
        "    # initialize arrays for mse of each batch for a particular batch size\n",
        "    batch_mse = []\n",
        "\n",
        "    # take different batches and calculate mse for each batch separately\n",
        "    for i in range(X_train.shape[0] // batch_size):\n",
        "      \n",
        "      # input layer and corresponding labels of batch size\n",
        "      X = tf.Variable(tf.cast(tf.transpose(X_train[i*batch_size:(i+1)*batch_size]), dtype=tf.float64))\n",
        "      labels = tf.Variable(y_train[i*batch_size:(i+1)*batch_size])\n",
        "      \n",
        "      # forward propogate and make prediction\n",
        "      output = forward_prop(X, num, p, act)\n",
        "      MSE = tf.keras.losses.MSE(labels, output)\n",
        "      batch_mse.append(MSE)\n",
        "\n",
        "    # take average mse obtained across all batches for a particular batch size\n",
        "    mse.append(tf.divide(sum(batch_mse),len(batch_mse)))\n",
        "    tf.print(\"Batch Size\", batch_size, \": MSE = \", tf.divide(sum(batch_mse),len(batch_mse)))\n",
        "\n",
        "# plot mse for different batch sizes\n",
        "tf.print()\n",
        "plt.plot(batch_sizes, mse)\n",
        "plt.title(\"Batch size vs. MSE\", fontsize = 15)\n",
        "plt.xlabel(\"Batch Size\", fontsize = 12)\n",
        "plt.ylabel(\"MSE\", fontsize = 12)\n",
        "plt.ylim(0, 2*max(mse))\n",
        "plt.xticks(fontsize=12)\n",
        "plt.yticks(fontsize=12)\n",
        "plt.grid()\n",
        "plt.show()"
      ],
      "execution_count": 11,
      "outputs": [
        {
          "output_type": "stream",
          "text": [
            "Batch Size 50 : MSE =  [413.15441774114271]\n",
            "Batch Size 100 : MSE =  [380.70762933593]\n",
            "Batch Size 150 : MSE =  [367.56570415830691]\n",
            "Batch Size 200 : MSE =  [241.01126214927615]\n",
            "Batch Size 250 : MSE =  [554.55872]\n",
            "Batch Size 300 : MSE =  [553.05630000000008]\n",
            "Batch Size 350 : MSE =  [589.82331428571422]\n",
            "Batch Size 404 : MSE =  [574.17692029051193]\n",
            "\n"
          ],
          "name": "stdout"
        },
        {
          "output_type": "display_data",
          "data": {
            "image/png": "[encoded data removed]",
            "text/plain": [
              "<Figure size 432x288 with 1 Axes>"
            ]
          },
          "metadata": {
            "tags": [],
            "needs_background": "light"
          }
        }
      ]
    },
    {
      "cell_type": "markdown",
      "metadata": {
        "id": "MPPHHaR7G5fJ",
        "colab_type": "text"
      },
      "source": [
        "Observation: Since we are only forward propogating, the weights and biases are never adjusted, essentially the model learns nothing. So changing batch size does not really affect the MSE a lot and it remains high throughout. So, from here on, we will use entire dataset which has just 404 examples and take no batches. Since the weights and biases are initialised randomly, these MSE might change with every run. "
      ]
    },
    {
      "cell_type": "markdown",
      "metadata": {
        "id": "c8toyYQTHTRf",
        "colab_type": "text"
      },
      "source": [
        "**OBSERVIG EFFECT OF NUMBER OF NODES IN HIDDEN LAYER**"
      ]
    },
    {
      "cell_type": "code",
      "metadata": {
        "id": "yNUWbFwYHmLM",
        "colab_type": "code",
        "colab": {
          "base_uri": "https://localhost:8080/",
          "height": 390
        },
        "outputId": "506e50fd-8e2a-4972-e4f7-20b346e9a3ad"
      },
      "source": [
        "num = tf.constant(5, dtype = tf.int64)\n",
        "act = [tf.math.sigmoid, tf.math.sigmoid, tf.math.sigmoid, tf.nn.relu]\n",
        "\n",
        "# array of different numbers of nodes to be taken every time, same for each layer\n",
        "nodes = tf.constant([5, 50, 500, 5000], dtype = tf.int64)\n",
        "\n",
        "# initialize mse array for different batch sizes\n",
        "mse = []\n",
        "\n",
        "for n in nodes:\n",
        "\n",
        "  p = tf.Variable([X_train.shape[1], int(n), int(n), int(n), 1], dtype = tf.int64)\n",
        "\n",
        "  X = tf.cast(tf.transpose(X_train), dtype=tf.float64)\n",
        "  labels = y_train\n",
        "  \n",
        "  # forward propogate and make prediction\n",
        "  output = forward_prop(X, num, p, act)\n",
        "  MSE = tf.keras.losses.MSE(labels, output)\n",
        "  mse.append(MSE)\n",
        "  tf.print(\"MSE for\", int(n), \"nodes in hidden layers:\", MSE)\n",
        "\n",
        "# plot mse for different number of nodes\n",
        "tf.print()\n",
        "plt.plot(nodes, mse)\n",
        "plt.title(\"Number of node in hidden layer vs. MSE\", fontsize = 15)\n",
        "plt.xlabel(\"Number of node in hidden layer\", fontsize = 12)\n",
        "plt.ylabel(\"MSE\", fontsize = 12)\n",
        "plt.ylim(0, 2*max(mse))\n",
        "plt.xticks(fontsize=12)\n",
        "plt.yticks(fontsize=12)\n",
        "plt.grid()\n",
        "plt.show()"
      ],
      "execution_count": 12,
      "outputs": [
        {
          "output_type": "stream",
          "text": [
            "MSE for 5 nodes in hidden layers: [586.1604950495049]\n",
            "MSE for 50 nodes in hidden layers: [562.37239981236394]\n",
            "MSE for 500 nodes in hidden layers: [116.49546871563636]\n",
            "MSE for 5000 nodes in hidden layers: [574.44132253984174]\n",
            "\n"
          ],
          "name": "stdout"
        },
        {
          "output_type": "display_data",
          "data": {
            "image/png": "[encoded data removed]",
            "text/plain": [
              "<Figure size 432x288 with 1 Axes>"
            ]
          },
          "metadata": {
            "tags": [],
            "needs_background": "light"
          }
        }
      ]
    },
    {
      "cell_type": "markdown",
      "metadata": {
        "id": "4L2FLCrNOeFc",
        "colab_type": "text"
      },
      "source": [
        "Observation: Here again, since we are only forward propogating, the weights and biases are never adjusted, essentially the model learns nothing. So increasing number of nodes i.e. interconnections does not really affect the MSE a lot (while it should have ideally decreased upto some point until overfitting starts) and it remains high throughout. So, from here on, we will use decreasing number of nodes 512, 256 and 128 nodes in all the following hidden layers. Since the weights and biases are initialised randomly, these MSE might change with every run."
      ]
    },
    {
      "cell_type": "markdown",
      "metadata": {
        "id": "_kgyPdq_OBS5",
        "colab_type": "text"
      },
      "source": [
        "**OBSERVING EFFECT OF NUMBER OF LAYERS (additional analysis)**"
      ]
    },
    {
      "cell_type": "code",
      "metadata": {
        "id": "72tjMPIuOVQX",
        "colab_type": "code",
        "colab": {
          "base_uri": "https://localhost:8080/",
          "height": 407
        },
        "outputId": "df1e46a6-3865-448a-d60f-7c11bb22dbaa"
      },
      "source": [
        "num = tf.constant([5, 6, 7, 8, 9], dtype = tf.int64)\n",
        "\n",
        "# initialize accuracies array for different number of hidden layers\n",
        "mse = []\n",
        "\n",
        "for n in num:\n",
        "\n",
        "  p = tf.constant([X_train.shape[1], 512, 256], dtype = tf.int64)\n",
        "  for i in range(int(n)-4):\n",
        "    p = tf.concat([p, tf.constant([128], dtype = tf.int64)], axis=0)\n",
        "  p = tf.concat([p, tf.constant([1], dtype = tf.int64)], axis=0)\n",
        "\n",
        "  act = [tf.math.sigmoid] * int(n-2)\n",
        "  act.append(tf.nn.relu)\n",
        "\n",
        "  X = tf.cast(tf.transpose(X_train), dtype=tf.float64)\n",
        "  labels = y_train\n",
        "  \n",
        "  # forward propogate and make prediction\n",
        "  output = forward_prop(X, int(n), p, act)\n",
        "  MSE = tf.keras.losses.MSE(labels, output)\n",
        "  mse.append(MSE)\n",
        "  tf.print(\"MSE for \", int(n), \"hidden layers:\", MSE)\n",
        "\n",
        "\n",
        "# plot accuracy for different number of hidden layers\n",
        "tf.print()\n",
        "plt.plot(num, mse)\n",
        "plt.title(\"Number of hidden layer vs. MSE\", fontsize = 15)\n",
        "plt.xlabel(\"Number of hidden layer\", fontsize = 12)\n",
        "plt.ylabel(\"MSE\", fontsize = 12)\n",
        "plt.xlim(4, 10)\n",
        "plt.ylim(0, 2*max(mse))\n",
        "plt.xticks(num, fontsize=12)\n",
        "plt.yticks(fontsize=12)\n",
        "plt.grid()\n",
        "plt.show()"
      ],
      "execution_count": 13,
      "outputs": [
        {
          "output_type": "stream",
          "text": [
            "MSE for  5 hidden layers: [148.06779327310136]\n",
            "MSE for  6 hidden layers: [586.1604950495049]\n",
            "MSE for  7 hidden layers: [470.03342416845618]\n",
            "MSE for  8 hidden layers: [559.44371997394808]\n",
            "MSE for  9 hidden layers: [394.43569372389442]\n",
            "\n"
          ],
          "name": "stdout"
        },
        {
          "output_type": "display_data",
          "data": {
            "image/png": "[encoded data removed]",
            "text/plain": [
              "<Figure size 432x288 with 1 Axes>"
            ]
          },
          "metadata": {
            "tags": [],
            "needs_background": "light"
          }
        }
      ]
    },
    {
      "cell_type": "markdown",
      "metadata": {
        "id": "kyCmioRQRpEm",
        "colab_type": "text"
      },
      "source": [
        "Observation: Here again, since we are only forward propogating, the weights and biases are never adjusted, essentially the model learns nothing. So increasing number of hidden layers does not really affect the MSE a lot (while it should have ideally decreased upto some point until overfitting starts) and it remains high throughout. So we limit our model to 3 hidden layers only. Since the weights and biases are initialised randomly, these MSE might change with every run."
      ]
    },
    {
      "cell_type": "markdown",
      "metadata": {
        "id": "1-0el2jUR29m",
        "colab_type": "text"
      },
      "source": [
        "**OBSERVING EFFECT OF ACTIVATION FUNCTIONS**"
      ]
    },
    {
      "cell_type": "code",
      "metadata": {
        "id": "tblQoJg8SF9C",
        "colab_type": "code",
        "colab": {
          "base_uri": "https://localhost:8080/",
          "height": 785
        },
        "outputId": "13d44619-d795-4a4e-e128-a3a0c9d2bf60"
      },
      "source": [
        "n = tf.constant(5, dtype = tf.int64)\n",
        "p = tf.constant([X_train.shape[1], 512, 256, 128, 1], dtype = tf.int64)\n",
        "\n",
        "hidden_layer1_act = [tf.math.sigmoid, tf.math.tanh]\n",
        "hidden_layer2_act = [tf.nn.relu, tf.math.tanh]\n",
        "hidden_layer3_act = [tf.math.sigmoid, tf.nn.relu]\n",
        "out_layer_act = [tf.math.sigmoid, tf.math.tanh, tf.nn.softmax]\n",
        "\n",
        "act1 = []\n",
        "act2 = []\n",
        "act3 = []\n",
        "actout = []\n",
        "mse = []\n",
        "\n",
        "for a1 in hidden_layer1_act:\n",
        "  for a2 in hidden_layer2_act:\n",
        "    for a3 in hidden_layer3_act:\n",
        "      for a4 in out_layer_act:\n",
        "\n",
        "        act = [a1, a2, a3, a4]\n",
        "        X = tf.cast(tf.transpose(X_train), dtype=tf.float64)\n",
        "        labels = y_train\n",
        "        \n",
        "        # forward propogate and make prediction\n",
        "        output = forward_prop(X, n, p, act)\n",
        "        MSE = tf.keras.losses.MSE(labels, output)\n",
        "\n",
        "        act1.append(str(a1).split(' ')[1])\n",
        "        act2.append(str(a2).split(' ')[1])\n",
        "        act3.append(str(a3).split(' ')[1])\n",
        "        actout.append(str(a4).split(' ')[1])\n",
        "        mse.append(float(MSE))\n",
        "\n",
        "pd.DataFrame(list(zip(act1, act2, act3, actout, mse)), columns = ['First layer', 'Second layer', 'Third layer', 'Output layer', 'MSE'])"
      ],
      "execution_count": 14,
      "outputs": [
        {
          "output_type": "execute_result",
          "data": {
            "text/html": [
              "<div>\n",
              "<style scoped>\n",
              "    .dataframe tbody tr th:only-of-type {\n",
              "        vertical-align: middle;\n",
              "    }\n",
              "\n",
              "    .dataframe tbody tr th {\n",
              "        vertical-align: top;\n",
              "    }\n",
              "\n",
              "    .dataframe thead th {\n",
              "        text-align: right;\n",
              "    }\n",
              "</style>\n",
              "<table border=\"1\" class=\"dataframe\">\n",
              "  <thead>\n",
              "    <tr style=\"text-align: right;\">\n",
              "      <th></th>\n",
              "      <th>First layer</th>\n",
              "      <th>Second layer</th>\n",
              "      <th>Third layer</th>\n",
              "      <th>Output layer</th>\n",
              "      <th>MSE</th>\n",
              "    </tr>\n",
              "  </thead>\n",
              "  <tbody>\n",
              "    <tr>\n",
              "      <th>0</th>\n",
              "      <td>sigmoid</td>\n",
              "      <td>relu</td>\n",
              "      <td>sigmoid</td>\n",
              "      <td>sigmoid</td>\n",
              "      <td>543.813990</td>\n",
              "    </tr>\n",
              "    <tr>\n",
              "      <th>1</th>\n",
              "      <td>sigmoid</td>\n",
              "      <td>relu</td>\n",
              "      <td>sigmoid</td>\n",
              "      <td>tanh</td>\n",
              "      <td>631.941001</td>\n",
              "    </tr>\n",
              "    <tr>\n",
              "      <th>2</th>\n",
              "      <td>sigmoid</td>\n",
              "      <td>relu</td>\n",
              "      <td>sigmoid</td>\n",
              "      <td>softmax_v2</td>\n",
              "      <td>586.032747</td>\n",
              "    </tr>\n",
              "    <tr>\n",
              "      <th>3</th>\n",
              "      <td>sigmoid</td>\n",
              "      <td>relu</td>\n",
              "      <td>relu</td>\n",
              "      <td>sigmoid</td>\n",
              "      <td>586.160495</td>\n",
              "    </tr>\n",
              "    <tr>\n",
              "      <th>4</th>\n",
              "      <td>sigmoid</td>\n",
              "      <td>relu</td>\n",
              "      <td>relu</td>\n",
              "      <td>tanh</td>\n",
              "      <td>543.105039</td>\n",
              "    </tr>\n",
              "    <tr>\n",
              "      <th>5</th>\n",
              "      <td>sigmoid</td>\n",
              "      <td>relu</td>\n",
              "      <td>relu</td>\n",
              "      <td>softmax_v2</td>\n",
              "      <td>586.138218</td>\n",
              "    </tr>\n",
              "    <tr>\n",
              "      <th>6</th>\n",
              "      <td>sigmoid</td>\n",
              "      <td>tanh</td>\n",
              "      <td>sigmoid</td>\n",
              "      <td>sigmoid</td>\n",
              "      <td>583.316370</td>\n",
              "    </tr>\n",
              "    <tr>\n",
              "      <th>7</th>\n",
              "      <td>sigmoid</td>\n",
              "      <td>tanh</td>\n",
              "      <td>sigmoid</td>\n",
              "      <td>tanh</td>\n",
              "      <td>564.224973</td>\n",
              "    </tr>\n",
              "    <tr>\n",
              "      <th>8</th>\n",
              "      <td>sigmoid</td>\n",
              "      <td>tanh</td>\n",
              "      <td>sigmoid</td>\n",
              "      <td>softmax_v2</td>\n",
              "      <td>586.103939</td>\n",
              "    </tr>\n",
              "    <tr>\n",
              "      <th>9</th>\n",
              "      <td>sigmoid</td>\n",
              "      <td>tanh</td>\n",
              "      <td>relu</td>\n",
              "      <td>sigmoid</td>\n",
              "      <td>584.422334</td>\n",
              "    </tr>\n",
              "    <tr>\n",
              "      <th>10</th>\n",
              "      <td>sigmoid</td>\n",
              "      <td>tanh</td>\n",
              "      <td>relu</td>\n",
              "      <td>tanh</td>\n",
              "      <td>631.950594</td>\n",
              "    </tr>\n",
              "    <tr>\n",
              "      <th>11</th>\n",
              "      <td>sigmoid</td>\n",
              "      <td>tanh</td>\n",
              "      <td>relu</td>\n",
              "      <td>softmax_v2</td>\n",
              "      <td>586.138215</td>\n",
              "    </tr>\n",
              "    <tr>\n",
              "      <th>12</th>\n",
              "      <td>tanh</td>\n",
              "      <td>relu</td>\n",
              "      <td>sigmoid</td>\n",
              "      <td>sigmoid</td>\n",
              "      <td>580.632686</td>\n",
              "    </tr>\n",
              "    <tr>\n",
              "      <th>13</th>\n",
              "      <td>tanh</td>\n",
              "      <td>relu</td>\n",
              "      <td>sigmoid</td>\n",
              "      <td>tanh</td>\n",
              "      <td>546.024752</td>\n",
              "    </tr>\n",
              "    <tr>\n",
              "      <th>14</th>\n",
              "      <td>tanh</td>\n",
              "      <td>relu</td>\n",
              "      <td>sigmoid</td>\n",
              "      <td>softmax_v2</td>\n",
              "      <td>585.997098</td>\n",
              "    </tr>\n",
              "    <tr>\n",
              "      <th>15</th>\n",
              "      <td>tanh</td>\n",
              "      <td>relu</td>\n",
              "      <td>relu</td>\n",
              "      <td>sigmoid</td>\n",
              "      <td>560.784339</td>\n",
              "    </tr>\n",
              "    <tr>\n",
              "      <th>16</th>\n",
              "      <td>tanh</td>\n",
              "      <td>relu</td>\n",
              "      <td>relu</td>\n",
              "      <td>tanh</td>\n",
              "      <td>631.950594</td>\n",
              "    </tr>\n",
              "    <tr>\n",
              "      <th>17</th>\n",
              "      <td>tanh</td>\n",
              "      <td>relu</td>\n",
              "      <td>relu</td>\n",
              "      <td>softmax_v2</td>\n",
              "      <td>586.098119</td>\n",
              "    </tr>\n",
              "    <tr>\n",
              "      <th>18</th>\n",
              "      <td>tanh</td>\n",
              "      <td>tanh</td>\n",
              "      <td>sigmoid</td>\n",
              "      <td>sigmoid</td>\n",
              "      <td>547.615400</td>\n",
              "    </tr>\n",
              "    <tr>\n",
              "      <th>19</th>\n",
              "      <td>tanh</td>\n",
              "      <td>tanh</td>\n",
              "      <td>sigmoid</td>\n",
              "      <td>tanh</td>\n",
              "      <td>543.139676</td>\n",
              "    </tr>\n",
              "    <tr>\n",
              "      <th>20</th>\n",
              "      <td>tanh</td>\n",
              "      <td>tanh</td>\n",
              "      <td>sigmoid</td>\n",
              "      <td>softmax_v2</td>\n",
              "      <td>586.013049</td>\n",
              "    </tr>\n",
              "    <tr>\n",
              "      <th>21</th>\n",
              "      <td>tanh</td>\n",
              "      <td>tanh</td>\n",
              "      <td>relu</td>\n",
              "      <td>sigmoid</td>\n",
              "      <td>546.961415</td>\n",
              "    </tr>\n",
              "    <tr>\n",
              "      <th>22</th>\n",
              "      <td>tanh</td>\n",
              "      <td>tanh</td>\n",
              "      <td>relu</td>\n",
              "      <td>tanh</td>\n",
              "      <td>566.548563</td>\n",
              "    </tr>\n",
              "    <tr>\n",
              "      <th>23</th>\n",
              "      <td>tanh</td>\n",
              "      <td>tanh</td>\n",
              "      <td>relu</td>\n",
              "      <td>softmax_v2</td>\n",
              "      <td>585.975347</td>\n",
              "    </tr>\n",
              "  </tbody>\n",
              "</table>\n",
              "</div>"
            ],
            "text/plain": [
              "   First layer Second layer Third layer Output layer         MSE\n",
              "0      sigmoid         relu     sigmoid      sigmoid  543.813990\n",
              "1      sigmoid         relu     sigmoid         tanh  631.941001\n",
              "2      sigmoid         relu     sigmoid   softmax_v2  586.032747\n",
              "3      sigmoid         relu        relu      sigmoid  586.160495\n",
              "4      sigmoid         relu        relu         tanh  543.105039\n",
              "5      sigmoid         relu        relu   softmax_v2  586.138218\n",
              "6      sigmoid         tanh     sigmoid      sigmoid  583.316370\n",
              "7      sigmoid         tanh     sigmoid         tanh  564.224973\n",
              "8      sigmoid         tanh     sigmoid   softmax_v2  586.103939\n",
              "9      sigmoid         tanh        relu      sigmoid  584.422334\n",
              "10     sigmoid         tanh        relu         tanh  631.950594\n",
              "11     sigmoid         tanh        relu   softmax_v2  586.138215\n",
              "12        tanh         relu     sigmoid      sigmoid  580.632686\n",
              "13        tanh         relu     sigmoid         tanh  546.024752\n",
              "14        tanh         relu     sigmoid   softmax_v2  585.997098\n",
              "15        tanh         relu        relu      sigmoid  560.784339\n",
              "16        tanh         relu        relu         tanh  631.950594\n",
              "17        tanh         relu        relu   softmax_v2  586.098119\n",
              "18        tanh         tanh     sigmoid      sigmoid  547.615400\n",
              "19        tanh         tanh     sigmoid         tanh  543.139676\n",
              "20        tanh         tanh     sigmoid   softmax_v2  586.013049\n",
              "21        tanh         tanh        relu      sigmoid  546.961415\n",
              "22        tanh         tanh        relu         tanh  566.548563\n",
              "23        tanh         tanh        relu   softmax_v2  585.975347"
            ]
          },
          "metadata": {
            "tags": []
          },
          "execution_count": 14
        }
      ]
    },
    {
      "cell_type": "markdown",
      "metadata": {
        "id": "NUU8B1F8T_27",
        "colab_type": "text"
      },
      "source": [
        "Observation: Here again, since we are only forward propogating, the weights and biases are never adjusted, essentially the model learns nothing. So the MSE does not change a lot with any combination of activation function. What effects changing limiting values via activation functions have can be analysed better if we allow backpropogation and look at issues like gradient descent then. Grossly, no particular function evidently seems the best option for output layer, though we would have expected softmax or sigmoid. Since the weights and biases are initialised randomly, these conclusions based on MSE might change with every run."
      ]
    }
  ]
}