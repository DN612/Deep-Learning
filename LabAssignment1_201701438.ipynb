{
  "nbformat": 4,
  "nbformat_minor": 0,
  "metadata": {
    "colab": {
      "name": "LabAssignment1_201701438.ipynb",
      "provenance": []
    },
    "kernelspec": {
      "name": "python3",
      "display_name": "Python 3"
    }
  },
  "cells": [
    {
      "cell_type": "markdown",
      "metadata": {
        "id": "qr63v7G-2Nwn",
        "colab_type": "text"
      },
      "source": [
        "**PART 3**"
      ]
    },
    {
      "cell_type": "code",
      "metadata": {
        "id": "bZF1d3SX2_Z6",
        "colab_type": "code",
        "colab": {}
      },
      "source": [
        "# install tensorflow \n",
        "# !pip install tensorflow\n",
        "\n",
        "# import libraries\n",
        "import tensorflow as tf\n",
        "import math"
      ],
      "execution_count": 90,
      "outputs": []
    },
    {
      "cell_type": "code",
      "metadata": {
        "id": "PG8P0gIROOIC",
        "colab_type": "code",
        "colab": {}
      },
      "source": [
        "# define constant pi\n",
        "pi = tf.constant(math.pi, dtype = tf.float64)\n",
        "\n",
        "# function to find factorial\n",
        "def fact(n):\n",
        "  init = tf.Variable(1, dtype = tf.float64)\n",
        "  for i in range(1, n+1):\n",
        "    init = init * i\n",
        "  return init"
      ],
      "execution_count": 91,
      "outputs": []
    },
    {
      "cell_type": "markdown",
      "metadata": {
        "id": "njRim4iHlIPa",
        "colab_type": "text"
      },
      "source": [
        "Question 3.1"
      ]
    },
    {
      "cell_type": "code",
      "metadata": {
        "id": "CkLIPqAN0i3i",
        "colab_type": "code",
        "colab": {
          "base_uri": "https://localhost:8080/",
          "height": 537
        },
        "outputId": "6d836d9a-8c64-454d-e3b3-c63774c9521b"
      },
      "source": [
        "# define range of N and x to evaluate f over it\n",
        "N = tf.constant([20, 50, 100], dtype=tf.int64)\n",
        "X = tf.constant([0.5, 1, 1.5, 2, 2.5, 3], dtype=tf.float64)\n",
        "\n",
        "# run a loop to find f(x) for some values in input range of x\n",
        "for x in X:\n",
        "  tf.print(\"x =\", x)\n",
        "  # run a loop to find f(x) for different values of n\n",
        "  for n in N:\n",
        "    # find all the terms of series at once and add those\n",
        "    var = tf.constant(np.arange(2, n+2), dtype = tf.float64)\n",
        "    var = ((1 + (-1)**var)/(1+ var**2))*tf.cos(x*var)\n",
        "    # sum all the terms\n",
        "    f = tf.reduce_sum(var)\n",
        "    f = (2/pi)*(1 - f)\n",
        "    # print f(x) for given n for given x\n",
        "    tf.print(\"N =\", n, \": f = \",f)\n",
        "  print()"
      ],
      "execution_count": 92,
      "outputs": [
        {
          "output_type": "stream",
          "text": [
            "x = 0.5\n",
            "N = 20 : f =  0.56714689799890461\n",
            "N = 50 : f =  0.56470072823225081\n",
            "N = 100 : f =  0.56482322926862039\n",
            "\n",
            "x = 1\n",
            "N = 20 : f =  0.76450097473240308\n",
            "N = 50 : f =  0.76578238504974572\n",
            "N = 100 : f =  0.765938789511261\n",
            "\n",
            "x = 1.5\n",
            "N = 20 : f =  0.83750194990435145\n",
            "N = 50 : f =  0.83739467368813147\n",
            "N = 100 : f =  0.83757251354550821\n",
            "\n",
            "x = 2\n",
            "N = 20 : f =  0.7995248646848031\n",
            "N = 50 : f =  0.79779208557615822\n",
            "N = 100 : f =  0.798004131770592\n",
            "\n",
            "x = 2.5\n",
            "N = 20 : f =  0.63555091950018194\n",
            "N = 50 : f =  0.63682930315549235\n",
            "N = 100 : f =  0.63711913725454927\n",
            "\n",
            "x = 3\n",
            "N = 20 : f =  0.30908978036732337\n",
            "N = 50 : f =  0.312988095469483\n",
            "N = 100 : f =  0.31359230190067194\n",
            "\n"
          ],
          "name": "stdout"
        }
      ]
    },
    {
      "cell_type": "markdown",
      "metadata": {
        "id": "8jwrdA-Jmpth",
        "colab_type": "text"
      },
      "source": [
        "Question 3.2"
      ]
    },
    {
      "cell_type": "code",
      "metadata": {
        "id": "K5MVMGqE_tv1",
        "colab_type": "code",
        "colab": {
          "base_uri": "https://localhost:8080/",
          "height": 451
        },
        "outputId": "700635fe-e969-456c-8e98-2a48ba5f08bc"
      },
      "source": [
        "# define range of N and x to evaluate f over it\n",
        "N = tf.constant([2, 5, 10], dtype=tf.int64)\n",
        "X = tf.constant([0.1, 0.3, 0.5, 0.7, 0.9], dtype=tf.float64)\n",
        "\n",
        "# run a loop to find f(x) for some values in input range of x\n",
        "for x in X:\n",
        "  tf.print(\"x =\", x)\n",
        "  # run a loop to find f(x) for different values of n\n",
        "  for n in N:\n",
        "    # initialize the final summation to zero\n",
        "    f = tf.Variable(0, dtype = tf.float64)\n",
        "    # run loop to find each term in series summation and add to result\n",
        "    for i in range(n):\n",
        "      var = tf.Variable((-1)**i, dtype = tf.float64) * x**(2*i) / fact(2*i)\n",
        "      f = f + var\n",
        "    tf.print(\"N =\", n, \": f = \",f)\n",
        "  print()"
      ],
      "execution_count": 93,
      "outputs": [
        {
          "output_type": "stream",
          "text": [
            "x = 0.1\n",
            "N = 2 : f =  0.995\n",
            "N = 5 : f =  0.99500416527802582\n",
            "N = 10 : f =  0.99500416527802582\n",
            "\n",
            "x = 0.3\n",
            "N = 2 : f =  0.955\n",
            "N = 5 : f =  0.95533648912723212\n",
            "N = 10 : f =  0.955336489125606\n",
            "\n",
            "x = 0.5\n",
            "N = 2 : f =  0.875\n",
            "N = 5 : f =  0.87758256215897812\n",
            "N = 10 : f =  0.87758256189037276\n",
            "\n",
            "x = 0.7\n",
            "N = 2 : f =  0.755\n",
            "N = 5 : f =  0.76484219503993056\n",
            "N = 10 : f =  0.76484218728448838\n",
            "\n",
            "x = 0.9\n",
            "N = 2 : f =  0.595\n",
            "N = 5 : f =  0.62161006377008932\n",
            "N = 10 : f =  0.6216099682706645\n",
            "\n"
          ],
          "name": "stdout"
        }
      ]
    },
    {
      "cell_type": "markdown",
      "metadata": {
        "id": "TXb7cYipmsXt",
        "colab_type": "text"
      },
      "source": [
        "Question 3.3"
      ]
    },
    {
      "cell_type": "code",
      "metadata": {
        "id": "MEw5zk9_A3qm",
        "colab_type": "code",
        "colab": {
          "base_uri": "https://localhost:8080/",
          "height": 451
        },
        "outputId": "bf41ae9e-3b6e-4e87-a152-35bff33455e0"
      },
      "source": [
        "# define range of N and x to evaluate f over it\n",
        "N = tf.constant([2, 5, 10], dtype=tf.int64)\n",
        "X = tf.constant([0.1, 0.3, 0.5, 0.7, 0.9], dtype=tf.float64)\n",
        "\n",
        "# run a loop to find f(x) for some values in input range of x\n",
        "for x in X:\n",
        "  tf.print(\"x =\", x)\n",
        "  # run a loop to find f(x) for different values of n\n",
        "  for n in N:\n",
        "    # initialize the final summation to zero\n",
        "    f = tf.Variable(0, dtype = tf.float64)\n",
        "    # run loop to find each term in series summation and add to result\n",
        "    for i in range(n):\n",
        "      var = fact(2*i) * tf.Variable((x)**(2*i+1), dtype = tf.float64) / ( 4**i * fact(i)**2 * (2*i+1) )\n",
        "      f = f + var\n",
        "    tf.print(\"N =\", n, \": f = \",f)\n",
        "  print()"
      ],
      "execution_count": 94,
      "outputs": [
        {
          "output_type": "stream",
          "text": [
            "x = 0.1\n",
            "N = 2 : f =  0.10016666666666667\n",
            "N = 5 : f =  0.10016742116133433\n",
            "N = 10 : f =  0.1001674211615598\n",
            "\n",
            "x = 0.3\n",
            "N = 2 : f =  0.3045\n",
            "N = 5 : f =  0.30469261140066961\n",
            "N = 10 : f =  0.30469265401530221\n",
            "\n",
            "x = 0.5\n",
            "N = 2 : f =  0.52083333333333337\n",
            "N = 5 : f =  0.523585195390005\n",
            "N = 10 : f =  0.52359877047843639\n",
            "\n",
            "x = 0.7\n",
            "N = 2 : f =  0.75716666666666665\n",
            "N = 5 : f =  0.77467446896267367\n",
            "N = 10 : f =  0.77538926798950825\n",
            "\n",
            "x = 0.9\n",
            "N = 2 : f =  1.0215\n",
            "N = 5 : f =  1.098909877952009\n",
            "N = 10 : f =  1.1164617394377756\n",
            "\n"
          ],
          "name": "stdout"
        }
      ]
    }
  ]
}