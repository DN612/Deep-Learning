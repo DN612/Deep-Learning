{
  "nbformat": 4,
  "nbformat_minor": 0,
  "metadata": {
    "colab": {
      "name": "LabAssignment4_201701438.ipynb",
      "provenance": []
    },
    "kernelspec": {
      "name": "python3",
      "display_name": "Python 3"
    }
  },
  "cells": [
    {
      "cell_type": "markdown",
      "metadata": {
        "id": "917g12U2z64f",
        "colab_type": "text"
      },
      "source": [
        "**IMPORT LIBRARIES**"
      ]
    },
    {
      "cell_type": "code",
      "metadata": {
        "id": "ym5zksfe8TMA",
        "colab_type": "code",
        "colab": {
          "base_uri": "https://localhost:8080/",
          "height": 193
        },
        "outputId": "32e0e43d-38c8-41c9-ca5d-060e473b8691"
      },
      "source": [
        "import numpy as np\n",
        "import matplotlib.pyplot as plt\n",
        "import pandas as pd\n",
        "import tensorflow as tf\n",
        "import keras\n",
        "from keras.models import Sequential\n",
        "from keras.layers import Dense\n",
        "from sklearn.model_selection import KFold\n",
        "import warnings\n",
        "warnings.filterwarnings(\"ignore\")\n",
        "!pip install silence_tensorflow\n",
        "import silence_tensorflow.auto"
      ],
      "execution_count": 1,
      "outputs": [
        {
          "output_type": "stream",
          "text": [
            "Collecting silence_tensorflow\n",
            "  Downloading https://files.pythonhosted.org/packages/96/d7/076b21d0e79cfc8a085f623e6577b754c50a42cfbcce51d77d0d2206988c/silence_tensorflow-1.1.1.tar.gz\n",
            "Building wheels for collected packages: silence-tensorflow\n",
            "  Building wheel for silence-tensorflow (setup.py) ... \u001b[?25l\u001b[?25hdone\n",
            "  Created wheel for silence-tensorflow: filename=silence_tensorflow-1.1.1-cp36-none-any.whl size=3743 sha256=255f6d6b90eb8a06950f0d26f27570a3a522c0a63221ab21cce27ffdf42ca5c5\n",
            "  Stored in directory: /root/.cache/pip/wheels/51/0b/35/cf3020764bee61daa81fa249df3a448e3806344a087fc12292\n",
            "Successfully built silence-tensorflow\n",
            "Installing collected packages: silence-tensorflow\n",
            "Successfully installed silence-tensorflow-1.1.1\n"
          ],
          "name": "stdout"
        }
      ]
    },
    {
      "cell_type": "markdown",
      "metadata": {
        "id": "d4CWRddu0AKF",
        "colab_type": "text"
      },
      "source": [
        "**LOAD AND PREPROCESS DATA**"
      ]
    },
    {
      "cell_type": "code",
      "metadata": {
        "id": "NQ7feVcDDmR2",
        "colab_type": "code",
        "colab": {
          "base_uri": "https://localhost:8080/",
          "height": 121
        },
        "outputId": "b7b34b3a-d64b-43fb-b24c-c6e94c2ed9c4"
      },
      "source": [
        "# load data\n",
        "x_train = pd.read_csv(\"x_train.csv\")\n",
        "y_train = pd.read_csv(\"y_train.csv\")\n",
        "x_test = pd.read_csv(\"x_test.csv\")\n",
        "y_test = pd.read_csv(\"y_test.csv\")\n",
        "x_valid = pd.read_csv(\"x_valid.csv\")\n",
        "y_valid = pd.read_csv(\"y_valid.csv\")\n",
        "\n",
        "# normalize data\n",
        "from sklearn.preprocessing import StandardScaler\n",
        "sc=StandardScaler()\n",
        "x_train=sc.fit_transform(x_train)\n",
        "x_test=sc.fit_transform(x_test)\n",
        "x_valid=sc.fit_transform(x_valid)\n",
        "\n",
        "# check dimensions\n",
        "print(\"x_train:\", x_train.shape)\n",
        "print(\"y_train:\", y_train.shape)\n",
        "print(\"x_test:\", x_test.shape)\n",
        "print(\"y_test:\", y_test.shape)\n",
        "print(\"x_valid:\", x_valid.shape)\n",
        "print(\"y_valid:\", y_valid.shape)\n"
      ],
      "execution_count": 2,
      "outputs": [
        {
          "output_type": "stream",
          "text": [
            "x_train: (192, 4)\n",
            "y_train: (192, 1)\n",
            "x_test: (100, 4)\n",
            "y_test: (100, 1)\n",
            "x_valid: (100, 4)\n",
            "y_valid: (100, 1)\n"
          ],
          "name": "stdout"
        }
      ]
    },
    {
      "cell_type": "markdown",
      "metadata": {
        "id": "p3lau6FG0Eu3",
        "colab_type": "text"
      },
      "source": [
        "# **TASK 1 - NEURAL NETWORKS**"
      ]
    },
    {
      "cell_type": "code",
      "metadata": {
        "id": "ffC_-B0qB_Wj",
        "colab_type": "code",
        "colab": {}
      },
      "source": [
        "# model 1 : 4-5-1\n",
        "model1 = Sequential()\n",
        "model1.add(Dense(5, input_dim=4, activation = 'relu'))\n",
        "model1.add(Dense(1))\n",
        "\n",
        "model1.compile(loss='mse', optimizer ='adam', metrics=['mse'])\n",
        "history1 = model1.fit(x_train, y_train, epochs=150, batch_size=10, verbose = 0)"
      ],
      "execution_count": 23,
      "outputs": []
    },
    {
      "cell_type": "code",
      "metadata": {
        "id": "jv7Evq_6XSHF",
        "colab_type": "code",
        "colab": {}
      },
      "source": [
        "# model 2 : 4-10-1\n",
        "model2 = Sequential()\n",
        "model2.add(Dense(10, input_dim=4, activation = 'relu'))\n",
        "model2.add(Dense(1))\n",
        "\n",
        "model2.compile(loss='mse', optimizer ='adam', metrics=['mse'])\n",
        "history2 = model2.fit(x_train, y_train, epochs=150, batch_size=10, verbose = 0)"
      ],
      "execution_count": 24,
      "outputs": []
    },
    {
      "cell_type": "code",
      "metadata": {
        "id": "bkPkVwG4XZPx",
        "colab_type": "code",
        "colab": {}
      },
      "source": [
        "# model 3 : 4-5-10-5-1\n",
        "model3 = Sequential()\n",
        "model3.add(Dense(5, input_dim=4, activation = 'relu'))\n",
        "model3.add(Dense(10, activation = 'relu'))\n",
        "model3.add(Dense(5, activation = 'relu'))\n",
        "model3.add(Dense(1))\n",
        "\n",
        "model3.compile(loss='mse', optimizer ='adam', metrics=['mse'])\n",
        "history3 = model3.fit(x_train, y_train, epochs=150, batch_size=10, verbose = 0)"
      ],
      "execution_count": 25,
      "outputs": []
    },
    {
      "cell_type": "code",
      "metadata": {
        "id": "x5QyN3tePIe-",
        "colab_type": "code",
        "colab": {
          "base_uri": "https://localhost:8080/",
          "height": 295
        },
        "outputId": "e42e9198-4f2b-4baf-a560-97fae3d71545"
      },
      "source": [
        "# compare MSE of 3 models\n",
        "plt.title(\"MSE vs. Number of epochs\")\n",
        "plt.plot(history1.history[\"mse\"], label = 'model 1 : 4-5-1')\n",
        "plt.plot(history2.history[\"mse\"], label = 'model 2 : 4-10-1')\n",
        "plt.plot(history3.history[\"mse\"], label = 'model 3 : 4-5-10-5-1')\n",
        "plt.xlabel(\"Epochs\")\n",
        "plt.ylabel(\"MSE\")\n",
        "plt.legend()\n",
        "plt.show()"
      ],
      "execution_count": null,
      "outputs": [
        {
          "output_type": "display_data",
          "data": {
            "image/png": "[encoded data removed]",
            "text/plain": [
              "<Figure size 432x288 with 1 Axes>"
            ]
          },
          "metadata": {
            "tags": [],
            "needs_background": "light"
          }
        }
      ]
    },
    {
      "cell_type": "markdown",
      "metadata": {
        "id": "Y0ZuPUgn7nDY",
        "colab_type": "text"
      },
      "source": [
        "The model with 3 hidden layers of sizes 5, 10 and 5 respectively performs the best, i.e. converges to a minimum MSE quickly. Hence when we predict on the test data using this model we get minimum mean square error (mse) for it as follows."
      ]
    },
    {
      "cell_type": "code",
      "metadata": {
        "id": "j8D_F4zjkVic",
        "colab_type": "code",
        "colab": {
          "base_uri": "https://localhost:8080/",
          "height": 87
        },
        "outputId": "1207fbaf-f8c5-46e3-8f07-ec422a83e50e"
      },
      "source": [
        "model1.evaluate(x_test, y_test)\n",
        "model2.evaluate(x_test, y_test)\n",
        "model3.evaluate(x_test, y_test)"
      ],
      "execution_count": 27,
      "outputs": [
        {
          "output_type": "stream",
          "text": [
            "4/4 [==============================] - 0s 3ms/step - loss: 26.8593 - mse: 26.8593\n",
            "4/4 [==============================] - 0s 2ms/step - loss: 18.5461 - mse: 18.5461\n",
            "4/4 [==============================] - 0s 2ms/step - loss: 14.9765 - mse: 14.9765\n"
          ],
          "name": "stdout"
        },
        {
          "output_type": "execute_result",
          "data": {
            "text/plain": [
              "[14.976519584655762, 14.976519584655762]"
            ]
          },
          "metadata": {
            "tags": []
          },
          "execution_count": 27
        }
      ]
    },
    {
      "cell_type": "markdown",
      "metadata": {
        "id": "nEURh_na0NXe",
        "colab_type": "text"
      },
      "source": [
        "# **TASK 2 - NEURAL NETWORKS WITH CROSS VALIDATION**"
      ]
    },
    {
      "cell_type": "code",
      "metadata": {
        "id": "mCfhv0UWi6RG",
        "colab_type": "code",
        "colab": {
          "base_uri": "https://localhost:8080/",
          "height": 191
        },
        "outputId": "48be0baa-1b94-4d0c-bf15-11dbe49e004a"
      },
      "source": [
        "# initialize kfold\n",
        "num_folds = 10\n",
        "kfold = KFold(n_splits=num_folds, shuffle=True)\n",
        "\n",
        "# merge train and valid data\n",
        "X = np.concatenate((x_train, x_valid), axis=0)\n",
        "y = np.concatenate((y_train, y_valid), axis=0)\n",
        "\n",
        "# store validation MSE for all epochs after each fold\n",
        "val_mse1 = []\n",
        "\n",
        "# start with first fold\n",
        "fold_no = 1\n",
        "\n",
        "# run loop over all folds\n",
        "for train, test in kfold.split(X, y):\n",
        "\n",
        "  # Define the model \n",
        "  cross_model1 = Sequential()\n",
        "  cross_model1.add(Dense(5, input_dim=4, activation = 'relu'))\n",
        "  cross_model1.add(Dense(1))\n",
        "\n",
        "  # Compile the model\n",
        "  cross_model1.compile(loss='mse', optimizer='adam', metrics=['mse'])\n",
        "\n",
        "  # Track fold\n",
        "  print(f'Training for fold {fold_no} ...')\n",
        "\n",
        "  # Fit data to model\n",
        "  cross_history1 = cross_model1.fit(X[train], y[train], batch_size=10, epochs=150, verbose = 0, validation_data=(X[test], y[test]))\n",
        "  val_mse1.append(cross_history1.history['val_mse'])\n",
        "\n",
        "  # Increment fold\n",
        "  fold_no = fold_no + 1"
      ],
      "execution_count": null,
      "outputs": [
        {
          "output_type": "stream",
          "text": [
            "Training for fold 1 ...\n",
            "Training for fold 2 ...\n",
            "Training for fold 3 ...\n",
            "Training for fold 4 ...\n",
            "Training for fold 5 ...\n",
            "Training for fold 6 ...\n",
            "Training for fold 7 ...\n",
            "Training for fold 8 ...\n",
            "Training for fold 9 ...\n",
            "Training for fold 10 ...\n"
          ],
          "name": "stdout"
        }
      ]
    },
    {
      "cell_type": "code",
      "metadata": {
        "id": "e_7nPC00sIvQ",
        "colab_type": "code",
        "colab": {
          "base_uri": "https://localhost:8080/",
          "height": 191
        },
        "outputId": "6b57992e-e46c-43d7-9062-a031582de90e"
      },
      "source": [
        "# initialize kfold\n",
        "num_folds = 10\n",
        "kfold = KFold(n_splits=num_folds, shuffle=True)\n",
        "\n",
        "# merge train and valid data\n",
        "X = np.concatenate((x_train, x_valid), axis=0)\n",
        "y = np.concatenate((y_train, y_valid), axis=0)\n",
        "\n",
        "# store validation MSE for all epochs after each fold\n",
        "val_mse2 = []\n",
        "\n",
        "# start with first fold\n",
        "fold_no = 1\n",
        "\n",
        "# run loop over all folds\n",
        "for train, test in kfold.split(X, y):\n",
        "\n",
        "  # Define the model \n",
        "  cross_model2 = Sequential()\n",
        "  cross_model2.add(Dense(10, input_dim=4, activation = 'relu'))\n",
        "  cross_model2.add(Dense(1))\n",
        "\n",
        "  # Compile the model\n",
        "  cross_model2.compile(loss='mse', optimizer='adam', metrics=['mse'])\n",
        "\n",
        "  # Track fold\n",
        "  print(f'Training for fold {fold_no} ...')\n",
        "\n",
        "  # Fit data to model\n",
        "  cross_history2 = cross_model2.fit(X[train], y[train], batch_size=10, epochs=150, verbose = 0, validation_data=(X[test], y[test]))\n",
        "  val_mse2.append(cross_history2.history['val_mse'])\n",
        "\n",
        "  # Increment fold\n",
        "  fold_no = fold_no + 1"
      ],
      "execution_count": null,
      "outputs": [
        {
          "output_type": "stream",
          "text": [
            "Training for fold 1 ...\n",
            "Training for fold 2 ...\n",
            "Training for fold 3 ...\n",
            "Training for fold 4 ...\n",
            "Training for fold 5 ...\n",
            "Training for fold 6 ...\n",
            "Training for fold 7 ...\n",
            "Training for fold 8 ...\n",
            "Training for fold 9 ...\n",
            "Training for fold 10 ...\n"
          ],
          "name": "stdout"
        }
      ]
    },
    {
      "cell_type": "code",
      "metadata": {
        "id": "uqkcglBEsTQE",
        "colab_type": "code",
        "colab": {
          "base_uri": "https://localhost:8080/",
          "height": 191
        },
        "outputId": "830d3d44-7b19-447e-e65c-c1bbd84b8cfc"
      },
      "source": [
        "# initialize kfold\n",
        "num_folds = 10\n",
        "kfold = KFold(n_splits=num_folds, shuffle=True)\n",
        "\n",
        "# merge train and valid data\n",
        "X = np.concatenate((x_train, x_valid), axis=0)\n",
        "y = np.concatenate((y_train, y_valid), axis=0)\n",
        "\n",
        "# store validation MSE for all epochs after each fold\n",
        "val_mse3 = []\n",
        "\n",
        "# start with first fold\n",
        "fold_no = 1\n",
        "\n",
        "# run loop over all folds\n",
        "for train, test in kfold.split(X, y):\n",
        "\n",
        "  # Define the model\n",
        "  cross_model3 = Sequential()\n",
        "  cross_model3.add(Dense(5, input_dim=4, activation = 'relu'))\n",
        "  cross_model3.add(Dense(10, activation = 'relu'))\n",
        "  cross_model3.add(Dense(5, activation = 'relu'))\n",
        "  cross_model3.add(Dense(1))\n",
        "\n",
        "  # Compile the model\n",
        "  cross_model3.compile(loss='mse', optimizer='adam', metrics=['mse'])\n",
        "\n",
        "  # Track model\n",
        "  print(f'Training for fold {fold_no} ...')\n",
        "\n",
        "  # Fit data to model\n",
        "  cross_history3 = cross_model3.fit(X[train], y[train], batch_size=10, epochs=150, verbose = 0, validation_data=(X[test], y[test]))\n",
        "  val_mse3.append(cross_history3.history['val_mse'])\n",
        "\n",
        "  # Increment fold\n",
        "  fold_no = fold_no + 1"
      ],
      "execution_count": null,
      "outputs": [
        {
          "output_type": "stream",
          "text": [
            "Training for fold 1 ...\n",
            "Training for fold 2 ...\n",
            "Training for fold 3 ...\n",
            "Training for fold 4 ...\n",
            "Training for fold 5 ...\n",
            "Training for fold 6 ...\n",
            "Training for fold 7 ...\n",
            "Training for fold 8 ...\n",
            "Training for fold 9 ...\n",
            "Training for fold 10 ...\n"
          ],
          "name": "stdout"
        }
      ]
    },
    {
      "cell_type": "code",
      "metadata": {
        "id": "h1Ehg8qjvZme",
        "colab_type": "code",
        "colab": {
          "base_uri": "https://localhost:8080/",
          "height": 295
        },
        "outputId": "52123a5d-1991-487e-a632-5176645f06db"
      },
      "source": [
        "plt.title(\"Validation MSE vs. Number of epochs\")\n",
        "plt.plot(np.mean(val_mse1, axis = 0), label = 'model 1 : 4-5-1')\n",
        "plt.plot(np.mean(val_mse2, axis = 0), label = 'model 2 : 4-10-1')\n",
        "plt.plot(np.mean(val_mse3, axis = 0), label = 'model 3 : 4-5-10-5-1')\n",
        "plt.xlabel(\"Epochs\")\n",
        "plt.ylabel(\"Validation MSE\")\n",
        "plt.legend()\n",
        "plt.show()"
      ],
      "execution_count": null,
      "outputs": [
        {
          "output_type": "display_data",
          "data": {
            "image/png": "[encoded data removed]",
            "text/plain": [
              "<Figure size 432x288 with 1 Axes>"
            ]
          },
          "metadata": {
            "tags": [],
            "needs_background": "light"
          }
        }
      ]
    },
    {
      "cell_type": "markdown",
      "metadata": {
        "id": "ulpycIUpFklu",
        "colab_type": "text"
      },
      "source": [
        "Again, the model with 3 hidden layers of sizes 5, 10 and 5 respectively performs the best with k-fold cross validation as well, i.e. converges to a minimum validation MSE quickly. Having identified the best model, when we predict on the test data using it, we get lowest mean square error (mse) as follows."
      ]
    },
    {
      "cell_type": "code",
      "metadata": {
        "id": "ldCICFbpD8Ap",
        "colab_type": "code",
        "colab": {
          "base_uri": "https://localhost:8080/",
          "height": 87
        },
        "outputId": "d0581d08-275a-4d3e-aeff-6273bf8a8991"
      },
      "source": [
        "cross_model1.evaluate(x_test, y_test)\n",
        "cross_model2.evaluate(x_test, y_test)\n",
        "cross_model3.evaluate(x_test, y_test)"
      ],
      "execution_count": null,
      "outputs": [
        {
          "output_type": "stream",
          "text": [
            "4/4 [==============================] - 0s 2ms/step - loss: 15.5760 - mse: 15.5760\n",
            "4/4 [==============================] - 0s 2ms/step - loss: 15.0972 - mse: 15.0972\n",
            "4/4 [==============================] - 0s 2ms/step - loss: 14.1578 - mse: 14.1578\n"
          ],
          "name": "stdout"
        },
        {
          "output_type": "execute_result",
          "data": {
            "text/plain": [
              "[14.157781600952148, 14.157781600952148]"
            ]
          },
          "metadata": {
            "tags": []
          },
          "execution_count": 27
        }
      ]
    },
    {
      "cell_type": "markdown",
      "metadata": {
        "id": "rmqpxm9IGMp6",
        "colab_type": "text"
      },
      "source": [
        "# **TASK 3 - REGULARISATION**"
      ]
    },
    {
      "cell_type": "code",
      "metadata": {
        "id": "JPzmFAXhG9uL",
        "colab_type": "code",
        "colab": {
          "base_uri": "https://localhost:8080/",
          "height": 139
        },
        "outputId": "a5ed979b-fef0-4c0b-b6a7-181e025fd106"
      },
      "source": [
        "# initialize kfold\n",
        "num_folds = 10\n",
        "kfold = KFold(n_splits=num_folds, shuffle=True)\n",
        "\n",
        "# set range of alpha\n",
        "alpha = [1e-6, 1e-5, 1e-4, 1e-3, 1e-2, 1e-1, 1e-0]\n",
        "\n",
        "# store mse for each value of alpha\n",
        "mse_alpha1 = []\n",
        "\n",
        "# run loop over all alphas\n",
        "for a in alpha:\n",
        "\n",
        "  mse_per_fold1 = []\n",
        "\n",
        "  X = np.concatenate((x_train, x_valid), axis=0)\n",
        "  y = np.concatenate((y_train, y_valid), axis=0)\n",
        "\n",
        "  fold_no = 1\n",
        "\n",
        "  print(\"Regularizer paramter:\", a)\n",
        "  \n",
        "  for train, test in kfold.split(X, y):\n",
        "\n",
        "    reg_model1 = Sequential()\n",
        "    reg_model1.add(Dense(5, input_dim=4, activation = 'relu', kernel_regularizer=keras.regularizers.l2(a)))\n",
        "    reg_model1.add(Dense(1))\n",
        "\n",
        "    reg_model1.compile(loss='mse', optimizer='adam', metrics=['mse'])\n",
        "\n",
        "    reg_history1 = reg_model1.fit(X[train], y[train], batch_size=10, epochs=300, verbose = 0)\n",
        "\n",
        "    scores = reg_model1.evaluate(X[test], y[test], verbose=0)\n",
        "    mse_per_fold1.append(scores[1])\n",
        "\n",
        "    fold_no = fold_no + 1\n",
        "\n",
        "  mse_alpha1.append(np.mean(mse_per_fold1))"
      ],
      "execution_count": 3,
      "outputs": [
        {
          "output_type": "stream",
          "text": [
            "Regularizer paramter: 1e-06\n",
            "Regularizer paramter: 1e-05\n",
            "Regularizer paramter: 0.0001\n",
            "Regularizer paramter: 0.001\n",
            "Regularizer paramter: 0.01\n",
            "Regularizer paramter: 0.1\n",
            "Regularizer paramter: 1.0\n"
          ],
          "name": "stdout"
        }
      ]
    },
    {
      "cell_type": "code",
      "metadata": {
        "id": "jgUNMPDwWQs9",
        "colab_type": "code",
        "colab": {
          "base_uri": "https://localhost:8080/",
          "height": 139
        },
        "outputId": "ccdbaf80-c4e5-4b3f-dfd6-a9424ee7dea5"
      },
      "source": [
        "# initialize kfold\n",
        "num_folds = 10\n",
        "kfold = KFold(n_splits=num_folds, shuffle=True)\n",
        "\n",
        "# set range of alpha\n",
        "alpha = [1e-6, 1e-5, 1e-4, 1e-3, 1e-2, 1e-1, 1e-0]\n",
        "\n",
        "# store mse for each value of alpha\n",
        "mse_alpha2 = []\n",
        "\n",
        "# run loop over all alphas\n",
        "for a in alpha:\n",
        "\n",
        "  mse_per_fold2 = []\n",
        "\n",
        "  X = np.concatenate((x_train, x_valid), axis=0)\n",
        "  y = np.concatenate((y_train, y_valid), axis=0)\n",
        "\n",
        "  fold_no = 1\n",
        "\n",
        "  print(\"Regularizer paramter:\", a)\n",
        "  \n",
        "  for train, test in kfold.split(X, y):\n",
        "\n",
        "    reg_model2 = Sequential()\n",
        "    reg_model2.add(Dense(10, input_dim=4, activation = 'relu', kernel_regularizer=keras.regularizers.l2(a)))\n",
        "    reg_model2.add(Dense(1))\n",
        "\n",
        "    reg_model2.compile(loss='mse', optimizer='adam', metrics=['mse'])\n",
        "\n",
        "    reg_history2 = reg_model2.fit(X[train], y[train], batch_size=10, epochs=300, verbose = 0)\n",
        "\n",
        "    scores = reg_model2.evaluate(X[test], y[test], verbose=0)\n",
        "    mse_per_fold2.append(scores[1])\n",
        "\n",
        "    fold_no = fold_no + 1\n",
        "\n",
        "  mse_alpha2.append(np.mean(mse_per_fold2))"
      ],
      "execution_count": 4,
      "outputs": [
        {
          "output_type": "stream",
          "text": [
            "Regularizer paramter: 1e-06\n",
            "Regularizer paramter: 1e-05\n",
            "Regularizer paramter: 0.0001\n",
            "Regularizer paramter: 0.001\n",
            "Regularizer paramter: 0.01\n",
            "Regularizer paramter: 0.1\n",
            "Regularizer paramter: 1.0\n"
          ],
          "name": "stdout"
        }
      ]
    },
    {
      "cell_type": "code",
      "metadata": {
        "id": "NOi3ZkTtWm74",
        "colab_type": "code",
        "colab": {
          "base_uri": "https://localhost:8080/",
          "height": 139
        },
        "outputId": "c534f354-5b29-43b8-ab64-bd7f0571e7d4"
      },
      "source": [
        "# initialize kfold\n",
        "num_folds = 10\n",
        "kfold = KFold(n_splits=num_folds, shuffle=True)\n",
        "\n",
        "# set range of alpha\n",
        "alpha = [1e-6, 1e-5, 1e-4, 1e-3, 1e-2, 1e-1, 1e-0]\n",
        "\n",
        "# store mse for each value of alpha\n",
        "mse_alpha3 = []\n",
        "\n",
        "# run loop over all alphas\n",
        "for a in alpha:\n",
        "\n",
        "  mse_per_fold3 = []\n",
        "\n",
        "  X = np.concatenate((x_train, x_valid), axis=0)\n",
        "  y = np.concatenate((y_train, y_valid), axis=0)\n",
        "\n",
        "  fold_no = 1\n",
        "\n",
        "  print(\"Regularizer paramter:\", a)\n",
        "  \n",
        "  for train, test in kfold.split(X, y):\n",
        "\n",
        "    reg_model3 = Sequential()\n",
        "    reg_model3.add(Dense(5, input_dim=4, activation = 'relu', kernel_regularizer=keras.regularizers.l2(a)))\n",
        "    reg_model3.add(Dense(10, activation = 'relu', kernel_regularizer=keras.regularizers.l2(a)))\n",
        "    reg_model3.add(Dense(5, activation = 'relu', kernel_regularizer=keras.regularizers.l2(a)))\n",
        "    reg_model3.add(Dense(1))\n",
        "\n",
        "    reg_model3.compile(loss='mse', optimizer='adam', metrics=['mse'])\n",
        "\n",
        "    reg_history3 = reg_model3.fit(X[train], y[train], batch_size=10, epochs=300, verbose = 0)\n",
        "\n",
        "    scores = reg_model3.evaluate(X[test], y[test], verbose=0)\n",
        "    mse_per_fold3.append(scores[1])\n",
        "    # print(scores[1])\n",
        "\n",
        "    fold_no = fold_no + 1\n",
        "\n",
        "  mse_alpha3.append(np.mean(mse_per_fold3))"
      ],
      "execution_count": 13,
      "outputs": [
        {
          "output_type": "stream",
          "text": [
            "Regularizer paramter: 1e-06\n",
            "Regularizer paramter: 1e-05\n",
            "Regularizer paramter: 0.0001\n",
            "Regularizer paramter: 0.001\n",
            "Regularizer paramter: 0.01\n",
            "Regularizer paramter: 0.1\n",
            "Regularizer paramter: 1.0\n"
          ],
          "name": "stdout"
        }
      ]
    },
    {
      "cell_type": "code",
      "metadata": {
        "id": "efqlfzabXhDD",
        "colab_type": "code",
        "colab": {
          "base_uri": "https://localhost:8080/",
          "height": 295
        },
        "outputId": "a16cd2fc-3448-4f23-fcc7-fbbdf40d06a0"
      },
      "source": [
        "plt.title(\"Validation MSE vs. Number of epochs\")\n",
        "plt.plot(mse_alpha1, label = 'model 1 : 4-5-1')\n",
        "plt.plot(mse_alpha2, label = 'model 2 : 4-10-1')\n",
        "plt.plot(mse_alpha3, label = 'model 3 : 4-5-10-5-1')\n",
        "plt.xlabel(\"Regularization Parameter on log scale\")\n",
        "plt.ylabel(\"Validation MSE\")\n",
        "plt.legend()\n",
        "plt.show()"
      ],
      "execution_count": null,
      "outputs": [
        {
          "output_type": "display_data",
          "data": {
            "image/png": "[encoded data removed]",
            "text/plain": [
              "<Figure size 432x288 with 1 Axes>"
            ]
          },
          "metadata": {
            "tags": [],
            "needs_background": "light"
          }
        }
      ]
    },
    {
      "cell_type": "code",
      "metadata": {
        "id": "U30sLFBisEv6",
        "colab_type": "code",
        "colab": {
          "base_uri": "https://localhost:8080/",
          "height": 69
        },
        "outputId": "748b0867-19de-4188-f6dd-06f26b4ac25f"
      },
      "source": [
        "print(\"Optimal regularisation parameter for model 1:\", alpha[np.argmin(mse_alpha1)])\n",
        "print(\"Optimal regularisation parameter for model 2:\", alpha[np.argmin(mse_alpha2)])\n",
        "print(\"Optimal regularisation parameter for model 3:\", alpha[np.argmin(mse_alpha3)])"
      ],
      "execution_count": null,
      "outputs": [
        {
          "output_type": "stream",
          "text": [
            "Optimal regularisation parameter for model 1: 1e-06\n",
            "Optimal regularisation parameter for model 2: 0.01\n",
            "Optimal regularisation parameter for model 3: 0.0001\n"
          ],
          "name": "stdout"
        }
      ]
    },
    {
      "cell_type": "markdown",
      "metadata": {
        "id": "6jXFmiBSHgqE",
        "colab_type": "text"
      },
      "source": [
        "Ideally, MSE decreases with increasing value of regularisation parameter upto a certain optimal value. But this pattern is clear when we have a sufficiently large dataset for the model to overfit where regularisation meaningfully comes into picture. Though the results here are not completely deterministic, taking the optimal regularisation parameter for each of the three models we further check which model performs the best in terms of MSE."
      ]
    },
    {
      "cell_type": "code",
      "metadata": {
        "id": "GSbR0a5_H1aG",
        "colab_type": "code",
        "colab": {
          "base_uri": "https://localhost:8080/",
          "height": 35
        },
        "outputId": "6c484e22-e314-41e9-b0c8-710af07d4c0b"
      },
      "source": [
        "# initialize kfold\n",
        "num_folds = 10\n",
        "kfold = KFold(n_splits=num_folds, shuffle=True)\n",
        "\n",
        "# set range of alpha\n",
        "alpha = [alpha[np.argmin(mse_alpha1)]]\n",
        "\n",
        "# store mse for each fold\n",
        "mse_alpha1 = []\n",
        "\n",
        "# run loop over all alphas\n",
        "for a in alpha:\n",
        "\n",
        "  mse_per_fold1 = []\n",
        "\n",
        "  X = np.concatenate((x_train, x_valid), axis=0)\n",
        "  y = np.concatenate((y_train, y_valid), axis=0)\n",
        "\n",
        "  fold_no = 1\n",
        "\n",
        "  print(\"Regularizer paramter:\", a)\n",
        "  \n",
        "  for train, test in kfold.split(X, y):\n",
        "\n",
        "    reg_model1 = Sequential()\n",
        "    reg_model1.add(Dense(5, input_dim=4, activation = 'relu', kernel_regularizer=keras.regularizers.l2(a)))\n",
        "    reg_model1.add(Dense(1))\n",
        "\n",
        "    reg_model1.compile(loss='mse', optimizer='adam', metrics=['mse'])\n",
        "\n",
        "    reg_history1 = reg_model1.fit(X[train], y[train], batch_size=10, epochs=300, verbose = 0, validation_data=(X[test], y[test]))\n",
        "    mse_alpha1.append(reg_history1.history['val_mse'])\n",
        "\n",
        "    fold_no = fold_no + 1"
      ],
      "execution_count": 17,
      "outputs": [
        {
          "output_type": "stream",
          "text": [
            "Regularizer paramter: 1e-06\n"
          ],
          "name": "stdout"
        }
      ]
    },
    {
      "cell_type": "code",
      "metadata": {
        "id": "ZiLcBB8CH12R",
        "colab_type": "code",
        "colab": {
          "base_uri": "https://localhost:8080/",
          "height": 35
        },
        "outputId": "d3f4d377-95e5-4eca-c7b1-702ce71080f3"
      },
      "source": [
        "# initialize kfold\n",
        "num_folds = 10\n",
        "kfold = KFold(n_splits=num_folds, shuffle=True)\n",
        "\n",
        "# set range of alpha\n",
        "alpha = [alpha[np.argmin(mse_alpha2)]]\n",
        "\n",
        "# store mse for each fold\n",
        "mse_alpha2 = []\n",
        "\n",
        "# run loop over all alphas\n",
        "for a in alpha:\n",
        "\n",
        "  X = np.concatenate((x_train, x_valid), axis=0)\n",
        "  y = np.concatenate((y_train, y_valid), axis=0)\n",
        "\n",
        "  fold_no = 1\n",
        "\n",
        "  print(\"Regularizer paramter:\", a)\n",
        "  \n",
        "  for train, test in kfold.split(X, y):\n",
        "\n",
        "    reg_model2 = Sequential()\n",
        "    reg_model2.add(Dense(10, input_dim=4, activation = 'relu', kernel_regularizer=keras.regularizers.l2(a)))\n",
        "    reg_model2.add(Dense(1))\n",
        "\n",
        "    reg_model2.compile(loss='mse', optimizer='adam', metrics=['mse'])\n",
        "\n",
        "    reg_history2 = reg_model2.fit(X[train], y[train], batch_size=10, epochs=300, verbose = 0, validation_data=(X[test], y[test]))\n",
        "    mse_alpha2.append(reg_history2.history['val_mse'])\n",
        "\n",
        "    fold_no = fold_no + 1"
      ],
      "execution_count": 19,
      "outputs": [
        {
          "output_type": "stream",
          "text": [
            "Regularizer paramter: 0.01\n"
          ],
          "name": "stdout"
        }
      ]
    },
    {
      "cell_type": "code",
      "metadata": {
        "id": "RIzhiSqHH2B3",
        "colab_type": "code",
        "colab": {
          "base_uri": "https://localhost:8080/",
          "height": 35
        },
        "outputId": "fd57a65f-569d-4c8a-e5ca-b0acf7eb9d56"
      },
      "source": [
        "# initialize kfold\n",
        "num_folds = 10\n",
        "kfold = KFold(n_splits=num_folds, shuffle=True)\n",
        "\n",
        "# set range of alpha\n",
        "alpha = [alpha[np.argmin(mse_alpha3)]]\n",
        "\n",
        "# store mse for each fold\n",
        "mse_alpha3 = []\n",
        "\n",
        "# run loop over all alphas\n",
        "for a in alpha:\n",
        "\n",
        "  X = np.concatenate((x_train, x_valid), axis=0)\n",
        "  y = np.concatenate((y_train, y_valid), axis=0)\n",
        "\n",
        "  fold_no = 1\n",
        "\n",
        "  print(\"Regularizer paramter:\", a)\n",
        "  \n",
        "  for train, test in kfold.split(X, y):\n",
        "\n",
        "    reg_model3 = Sequential()\n",
        "    reg_model3.add(Dense(5, input_dim=4, activation = 'relu', kernel_regularizer=keras.regularizers.l2(a)))\n",
        "    reg_model3.add(Dense(10, activation = 'relu', kernel_regularizer=keras.regularizers.l2(a)))\n",
        "    reg_model3.add(Dense(5, activation = 'relu', kernel_regularizer=keras.regularizers.l2(a)))\n",
        "    reg_model3.add(Dense(1))\n",
        "\n",
        "    reg_model3.compile(loss='mse', optimizer='adam', metrics=['mse'])\n",
        "\n",
        "    reg_history3 = reg_model3.fit(X[train], y[train], batch_size=10, epochs=300, verbose = 0, validation_data=(X[test], y[test]))\n",
        "    mse_alpha3.append(reg_history3.history['val_mse'])\n",
        "\n",
        "    fold_no = fold_no + 1"
      ],
      "execution_count": 20,
      "outputs": [
        {
          "output_type": "stream",
          "text": [
            "Regularizer paramter: 0.0001\n"
          ],
          "name": "stdout"
        }
      ]
    },
    {
      "cell_type": "code",
      "metadata": {
        "id": "VsL0glP2H4Gf",
        "colab_type": "code",
        "colab": {
          "base_uri": "https://localhost:8080/",
          "height": 295
        },
        "outputId": "32e7817d-8b23-44aa-df86-834e3ad62afa"
      },
      "source": [
        "plt.title(\"Validation MSE vs. Number of epochs\")\n",
        "plt.plot(np.mean(mse_alpha1, axis = 0), label = 'model 1 : 4-5-1 with alpha 1e-6')\n",
        "plt.plot(np.mean(mse_alpha2, axis = 0), label = 'model 2 : 4-10-1 with alpha 1e-2')\n",
        "plt.plot(np.mean(mse_alpha3, axis = 0), label = 'model 3 : 4-5-10-5-1 with alpha 1e-4')\n",
        "plt.xlabel(\"Epochs\")\n",
        "plt.ylabel(\"Validation MSE\")\n",
        "plt.legend()\n",
        "plt.show()"
      ],
      "execution_count": 21,
      "outputs": [
        {
          "output_type": "display_data",
          "data": {
            "image/png": "[encoded data removed]",
            "text/plain": [
              "<Figure size 432x288 with 1 Axes>"
            ]
          },
          "metadata": {
            "tags": [],
            "needs_background": "light"
          }
        }
      ]
    },
    {
      "cell_type": "markdown",
      "metadata": {
        "id": "z5AkQVvcH4hR",
        "colab_type": "text"
      },
      "source": [
        "Of all the models with their optimal regularization parameter, the model with with 3 hidden layers of size 5, 10 and 5 performs best i.e. validation MSE converges faster. Having identified the best model, we predict on the test data using it and get lowest mean square error (mse) as follows."
      ]
    },
    {
      "cell_type": "code",
      "metadata": {
        "id": "6VXi0N879JmC",
        "colab_type": "code",
        "colab": {
          "base_uri": "https://localhost:8080/",
          "height": 87
        },
        "outputId": "314b4811-47ba-4593-99a1-ebebdf7918bd"
      },
      "source": [
        "reg_model1.evaluate(x_test, y_test)\n",
        "reg_model2.evaluate(x_test, y_test)\n",
        "reg_model3.evaluate(x_test, y_test)"
      ],
      "execution_count": 22,
      "outputs": [
        {
          "output_type": "stream",
          "text": [
            "4/4 [==============================] - 0s 2ms/step - loss: 15.2964 - mse: 15.2964\n",
            "4/4 [==============================] - 0s 2ms/step - loss: 15.3960 - mse: 15.2259\n",
            "4/4 [==============================] - 0s 2ms/step - loss: 13.6243 - mse: 13.6204\n"
          ],
          "name": "stdout"
        },
        {
          "output_type": "execute_result",
          "data": {
            "text/plain": [
              "[13.624295234680176, 13.620405197143555]"
            ]
          },
          "metadata": {
            "tags": []
          },
          "execution_count": 22
        }
      ]
    },
    {
      "cell_type": "markdown",
      "metadata": {
        "id": "ITn3EXHUnHel",
        "colab_type": "text"
      },
      "source": [
        "# **TASK 4 - UNDERFITTING AND OVERFITTING**"
      ]
    },
    {
      "cell_type": "code",
      "metadata": {
        "id": "dN9NbXDInOqq",
        "colab_type": "code",
        "colab": {
          "base_uri": "https://localhost:8080/",
          "height": 191
        },
        "outputId": "878810b3-8771-4db9-c144-c31587fb9e66"
      },
      "source": [
        "# underfit model \n",
        "\n",
        "# initialize kfold \n",
        "num_folds = 10\n",
        "kfold = KFold(n_splits=num_folds, shuffle=True)\n",
        "\n",
        "# store train and validation MSE for all epochs in each fold\n",
        "un_val_mse1 = []\n",
        "un_train_mse1 = []\n",
        "\n",
        "# prepare data\n",
        "X = np.concatenate((x_train, x_valid), axis=0)\n",
        "y = np.concatenate((y_train, y_valid), axis=0)\n",
        "\n",
        "# start with first fold\n",
        "fold_no = 1\n",
        "\n",
        "for train, test in kfold.split(X, y):\n",
        "\n",
        "  # Define the model\n",
        "  un_model1 = Sequential()\n",
        "  un_model1.add(Dense(2, input_dim=4, activation = 'relu'))\n",
        "  un_model1.add(Dense(1))\n",
        "\n",
        "  # Compile the model\n",
        "  un_model1.compile(loss='mse', optimizer='adam', metrics=['mse'])\n",
        "\n",
        "  # Track fold\n",
        "  print(f'Training for fold {fold_no} ...')\n",
        "\n",
        "  # Fit data to model\n",
        "  un_history1 = un_model1.fit(X[train], y[train], batch_size=10, epochs=500, verbose = 0, validation_data=(X[test], y[test]))\n",
        "  un_train_mse1.append(un_history1.history['mse'])\n",
        "  un_val_mse1.append(un_history1.history['val_mse'])\n",
        "\n",
        "  # Increment fold\n",
        "  fold_no = fold_no + 1"
      ],
      "execution_count": null,
      "outputs": [
        {
          "output_type": "stream",
          "text": [
            "Training for fold 1 ...\n",
            "Training for fold 2 ...\n",
            "Training for fold 3 ...\n",
            "Training for fold 4 ...\n",
            "Training for fold 5 ...\n",
            "Training for fold 6 ...\n",
            "Training for fold 7 ...\n",
            "Training for fold 8 ...\n",
            "Training for fold 9 ...\n",
            "Training for fold 10 ...\n"
          ],
          "name": "stdout"
        }
      ]
    },
    {
      "cell_type": "code",
      "metadata": {
        "id": "ggdaZrf0q0yD",
        "colab_type": "code",
        "colab": {
          "base_uri": "https://localhost:8080/",
          "height": 191
        },
        "outputId": "9436a465-881d-4ddc-cb1e-d043b359b4fc"
      },
      "source": [
        "# overfit model\n",
        "\n",
        "# initialize kfold \n",
        "num_folds = 10\n",
        "kfold = KFold(n_splits=num_folds, shuffle=True)\n",
        "\n",
        "# store train and validation MSE for all epochs in each fold\n",
        "ov_val_mse1 = []\n",
        "ov_train_mse1 = []\n",
        "\n",
        "# prepare data\n",
        "X = np.concatenate((x_train, x_valid), axis=0)\n",
        "y = np.concatenate((y_train, y_valid), axis=0)\n",
        "\n",
        "# start with first fold\n",
        "fold_no = 1\n",
        "\n",
        "for train, test in kfold.split(X, y):\n",
        "\n",
        "  # Define the model \n",
        "  ov_model1 = Sequential()\n",
        "  ov_model1.add(Dense(50, input_dim=4, activation = 'relu'))\n",
        "  ov_model1.add(Dense(50, activation = 'relu'))\n",
        "  ov_model1.add(Dense(100, activation = 'relu'))\n",
        "  ov_model1.add(Dense(100, activation = 'relu'))\n",
        "  ov_model1.add(Dense(50, activation = 'relu'))\n",
        "  ov_model1.add(Dense(50, activation = 'relu'))\n",
        "  ov_model1.add(Dense(1))\n",
        "\n",
        "  # Compile the model\n",
        "  ov_model1.compile(loss='mse', optimizer='adam', metrics=['mse'])\n",
        "\n",
        "  # Track fold\n",
        "  print(f'Training for fold {fold_no} ...')\n",
        "\n",
        "  # Fit data to model\n",
        "  ov_history1 = ov_model1.fit(X[train], y[train], batch_size=10, epochs=500, verbose = 0, validation_data=(X[test], y[test]))\n",
        "  ov_train_mse1.append(ov_history1.history['mse'])\n",
        "  ov_val_mse1.append(ov_history1.history['val_mse'])\n",
        "\n",
        "  # Increment fold\n",
        "  fold_no = fold_no + 1"
      ],
      "execution_count": null,
      "outputs": [
        {
          "output_type": "stream",
          "text": [
            "Training for fold 1 ...\n",
            "Training for fold 2 ...\n",
            "Training for fold 3 ...\n",
            "Training for fold 4 ...\n",
            "Training for fold 5 ...\n",
            "Training for fold 6 ...\n",
            "Training for fold 7 ...\n",
            "Training for fold 8 ...\n",
            "Training for fold 9 ...\n",
            "Training for fold 10 ...\n"
          ],
          "name": "stdout"
        }
      ]
    },
    {
      "cell_type": "code",
      "metadata": {
        "id": "6VQZtduMrrJ-",
        "colab_type": "code",
        "colab": {
          "base_uri": "https://localhost:8080/",
          "height": 295
        },
        "outputId": "d6eb362d-0b2f-49da-aea9-b10a7c151d3a"
      },
      "source": [
        "plt.title(\"Observe underfitting in a model\")\n",
        "plt.plot(np.mean(un_train_mse1, axis = 0), label = \"model 1 : 4-2-1\")\n",
        "plt.plot(np.mean(ov_train_mse1, axis = 0), label = \"model 2 : 4-50-50-100-100-50-50-1 \")\n",
        "plt.xlabel(\"Epochs\")\n",
        "plt.ylabel(\"Training MSE\")\n",
        "plt.legend()\n",
        "plt.show()"
      ],
      "execution_count": null,
      "outputs": [
        {
          "output_type": "display_data",
          "data": {
            "image/png": "[encoded data removed]",
            "text/plain": [
              "<Figure size 432x288 with 1 Axes>"
            ]
          },
          "metadata": {
            "tags": [],
            "needs_background": "light"
          }
        }
      ]
    },
    {
      "cell_type": "markdown",
      "metadata": {
        "id": "nuDKC_7HLWoJ",
        "colab_type": "text"
      },
      "source": [
        "The graph above shows that model 1 gives high training MSE even after large number of epochs, while model 2 quickly converges. This shows that the model is underfit and is unable to learn a lot from training data. This situation was purposefully arrived at by keeping just one hidden layer in the network of a very small size. This means the model will have very less number of weights and biases to adjust in order to capyture and learn the patterns in the data. This is what underfitting essentially means."
      ]
    },
    {
      "cell_type": "code",
      "metadata": {
        "id": "yansKThlvHIW",
        "colab_type": "code",
        "colab": {
          "base_uri": "https://localhost:8080/",
          "height": 295
        },
        "outputId": "d32fa0f7-a32b-4557-b461-11ea6495abd1"
      },
      "source": [
        "plt.title(\"Observe overfitting in a model\")\n",
        "plt.plot(np.mean(un_train_mse1, axis = 0), label = \"model 1 - Training MSE\")\n",
        "plt.plot(np.mean(un_val_mse1, axis = 0), label = \"model 1 - Validation MSE\")\n",
        "plt.plot(np.mean(ov_train_mse1, axis = 0), label = \"model 2 - Training MSE\")\n",
        "plt.plot(np.mean(ov_val_mse1, axis = 0), label = \"model 2 - Validation MSE\")\n",
        "plt.xlabel(\"Epochs\")\n",
        "plt.ylabel(\"MSE\")\n",
        "plt.legend()\n",
        "plt.show()"
      ],
      "execution_count": null,
      "outputs": [
        {
          "output_type": "display_data",
          "data": {
            "image/png": "[encoded data removed]",
            "text/plain": [
              "<Figure size 432x288 with 1 Axes>"
            ]
          },
          "metadata": {
            "tags": [],
            "needs_background": "light"
          }
        }
      ]
    },
    {
      "cell_type": "markdown",
      "metadata": {
        "id": "ZkVaLmGIOaal",
        "colab_type": "text"
      },
      "source": [
        "The graph above shows that for model 1, both training and validation MSE decreases simultaneously, but for model 2 initially both training and validation MSE decreases, but as epochs increase beyond a limit, the validation MSE increases. This shows that the model is learning too much from the training data which leads to decreasing training MSE, but is unable to generalize to unseen data now so validation MSE goes on increasing. (This trend would have been on a large datset.) This is a purposefully reached situation by making a very deep neural network with large number of nodes that allows it to learn lots of weights and biases and train itself to identify all the patterns in train data. But it specialises so much on train data that it cannot generalize on unseen data and this precisely what overfitting means."
      ]
    },
    {
      "cell_type": "markdown",
      "metadata": {
        "id": "BBinjtXKR3EU",
        "colab_type": "text"
      },
      "source": [
        "# **POINTS TO NOTE**"
      ]
    },
    {
      "cell_type": "markdown",
      "metadata": {
        "id": "jPTd5Ee1STEB",
        "colab_type": "text"
      },
      "source": [
        "**Comparision of MSE** <br>\n",
        "In all the 3 tasks, model with 3 hidden layers of size 5, 10 and 5 peforms best in terms of minimum MSE. For task 1, we are not using any validation so we get an MSE of 14.9765. For task 2 we use cross validation which reduces bias of the model, hence MSE improves a bit to 14.1578. For task 3 we use regularisation along with validation which reduces any kind of overfitting in the model, so MSE further reduces to 13.6204. Thus with every added improvements in the model, the MSE decreases."
      ]
    },
    {
      "cell_type": "markdown",
      "metadata": {
        "id": "7m-dmK1fSXtq",
        "colab_type": "text"
      },
      "source": [
        "**Benefits of cross validation** <br>\n",
        "To reduce variability we perform multiple folds of cross-validation with different subsets of the data as validation data. We combine the validation results from these multiple rounds to come up with an estimate of the model’s predictive performance. Cross-validation will give us a more accurate estimate of a model’s performance by reducing bias. So it gives a very accurate representation of the model's predictive behaviour as can be seen from models above as well. The models with least validation MSE performed best on test data as well. "
      ]
    }
  ]
}